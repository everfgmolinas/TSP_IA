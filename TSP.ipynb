{
  "cells": [
    {
      "cell_type": "markdown",
      "metadata": {
        "id": "view-in-github",
        "colab_type": "text"
      },
      "source": [
        "<a href=\"https://colab.research.google.com/github/everfgmolinas/TSP_IA/blob/main/TSP.ipynb\" target=\"_parent\"><img src=\"https://colab.research.google.com/assets/colab-badge.svg\" alt=\"Open In Colab\"/></a>"
      ]
    },
    {
      "cell_type": "markdown",
      "metadata": {
        "id": "Uslx6H4HlvAq"
      },
      "source": [
        "# TSP"
      ]
    },
    {
      "cell_type": "markdown",
      "metadata": {
        "id": "Td4-ZudblvAq"
      },
      "source": [
        "### Librerias"
      ]
    },
    {
      "cell_type": "code",
      "execution_count": null,
      "metadata": {
        "id": "An1FjRYelvAr"
      },
      "outputs": [],
      "source": [
        "import pandas as pd\n",
        "import plotly.express as px\n",
        "import plotly.graph_objects as go\n",
        "import numpy as np\n",
        "import time\n",
        "import warnings\n",
        "warnings.filterwarnings('ignore')"
      ]
    },
    {
      "cell_type": "markdown",
      "metadata": {
        "id": "URS9TOYilvAr"
      },
      "source": [
        "### Constantes"
      ]
    },
    {
      "cell_type": "code",
      "execution_count": null,
      "metadata": {
        "id": "4OH9cHFVlvAr"
      },
      "outputs": [],
      "source": [
        "# Definicion de constantes a ser utilizadas\n",
        "\n",
        "# maximo valor aleatorio que se podrá generar\n",
        "valorMaximo = 100\n",
        "# numero de nodos a ser utilizados\n",
        "nodos = 6"
      ]
    },
    {
      "cell_type": "markdown",
      "metadata": {
        "id": "6D6E9zh4lvAr"
      },
      "source": [
        "### Generancion del grafo y punto inicial"
      ]
    },
    {
      "cell_type": "code",
      "execution_count": null,
      "metadata": {
        "id": "uJ_3h0LJlvAs"
      },
      "outputs": [],
      "source": [
        "# el par (nodos,2) da las dimensiones del array que generará numpy (fila,col)\n",
        "puntosAleatorios = pd.DataFrame(\n",
        "    np.random.randint(0, valorMaximo, (nodos,2)),\n",
        "    columns=['X', 'Y']\n",
        ")\n",
        "\n",
        "\n",
        "puntosAleatorios.nunique()\n",
        "\n",
        "# desde que arista empezar\n",
        "inicio = np.random.randint(0, nodos-1)"
      ]
    },
    {
      "cell_type": "markdown",
      "metadata": {
        "id": "PflaoYOYlvAs"
      },
      "source": [
        "### 1. Funciones utiles"
      ]
    },
    {
      "cell_type": "markdown",
      "metadata": {
        "id": "fRvlRpBelvAs"
      },
      "source": [
        "##### 1.2 Definicion de funcion que calcula la distancia entre dos puntos"
      ]
    },
    {
      "cell_type": "code",
      "execution_count": null,
      "metadata": {
        "id": "w4T92yyGlvAs"
      },
      "outputs": [],
      "source": [
        "def distancia( punto1, punto2):\n",
        "  return np.sqrt(np.power(punto1[0]-punto2[0],2) + np.power(punto1[1]-punto2[1],2))"
      ]
    },
    {
      "cell_type": "markdown",
      "metadata": {
        "id": "3A3GZY_flvAs"
      },
      "source": [
        "##### 1.3 Definicion de funcion que retorna la cantidad de nodos expandidos"
      ]
    },
    {
      "cell_type": "code",
      "execution_count": null,
      "metadata": {
        "id": "vhXaPh04lvAs"
      },
      "outputs": [],
      "source": [
        "def estadosExpandidos(grafo):\n",
        "    # contamos el numero de nodos visitados\n",
        "    return grafo[grafo['marcado']==True].shape[0]"
      ]
    },
    {
      "cell_type": "markdown",
      "metadata": {
        "id": "LwoGW5kelvAs"
      },
      "source": [
        "##### 1.4 Definicion de funcion que encuentra el punto más cercano respecto a un parámetro dado"
      ]
    },
    {
      "cell_type": "code",
      "execution_count": null,
      "metadata": {
        "id": "PqOvsjMdlvAt"
      },
      "outputs": [],
      "source": [
        "# busqueda de siguiente distancia menor\n",
        "# si no encuentra a nadie con una menor distancia y sin visitar, devuelve el mismo \n",
        "# punto desde el que se busca\n",
        "def punto_mas_cerca(df, punto_inicial):\n",
        "  \"\"\"Determina el siguiente punto más cercano con respecto al punto_inicial,\n",
        "  si no encuentra un punto se retorna el mismo.\n",
        "\n",
        "  Parameters\n",
        "  ----------\n",
        "    df : Dataframe de puntos\n",
        "    punto_inicial : punto a partir de donde se busca el siguiente punto\n",
        "\n",
        "  Returns\n",
        "  ----------\n",
        "\n",
        "    df.row : fila del dataframe que representa el punto mascercano\n",
        "    int : longitud con el punto mas cercano o numpy.inf\n",
        "  \"\"\"\n",
        "\n",
        "  # longitud infinita\n",
        "  min_lenght = np.inf\n",
        "\n",
        "  # el siguiente punto más cercano es si mismo\n",
        "  next = punto_inicial.name\n",
        "\n",
        "  for index, row in df.iterrows():\n",
        "    # no debe de haber sido visitado y debe de ser una longitud menor a la\n",
        "    # longitud minima\n",
        "    if(row[2] != True and distancia(row, punto_inicial) <= min_lenght):\n",
        "      next = index\n",
        "      min_lenght = distancia(row, punto_inicial)\n",
        "\n",
        "  # retorna el punto y la longitud\n",
        "  return df.iloc[next], min_lenght"
      ]
    },
    {
      "cell_type": "markdown",
      "metadata": {
        "id": "JUQUtzEvlvAt"
      },
      "source": [
        "##### 1.5 Definicion de funcion que verifica la existencia de un nodo en un grafo"
      ]
    },
    {
      "cell_type": "code",
      "execution_count": null,
      "metadata": {
        "id": "PgBj60AdlvAt"
      },
      "outputs": [],
      "source": [
        "def existe_en_dataframe(df, data):\n",
        "  query = \"X == \" + str(data['X']) + \" and Y == \" + str(data['Y'])\n",
        "  return len(df.query(query)) >= 1"
      ]
    },
    {
      "cell_type": "markdown",
      "metadata": {
        "id": "XiZD_HP8lvAt"
      },
      "source": [
        "##### 1.6 Definicion de funcion encargada de encontrar la ruta óptima aplicando el mas avaro"
      ]
    },
    {
      "cell_type": "code",
      "execution_count": null,
      "metadata": {
        "id": "SEmnS_mflvAt"
      },
      "outputs": [],
      "source": [
        "def rutaOptima(dataframe, inicio):\n",
        "  dataframeCP = dataframe.copy()\n",
        "  # la columna marcado funciona para ver si el nodo en cuestion ya fue visitado\n",
        "  dataframeCP = dataframeCP.assign(marcado=False)\n",
        "  # cambiar a visitado\n",
        "  dataframeCP.iloc[inicio,2] = True\n",
        "  ruta = {\n",
        "    'ruta': pd.DataFrame(columns = ['X' , 'Y']),\n",
        "    'distancia': 0\n",
        "  }\n",
        "\n",
        "  ruta['ruta'] = ruta['ruta'].append({'X': dataframeCP.iloc[inicio].X, 'Y':dataframeCP.iloc[inicio].Y},ignore_index=True)\n",
        "\n",
        "  # mientras no haya un punto sin visitar\n",
        "  while(dataframeCP.marcado.isin([False]).any()):\n",
        "\n",
        "    #obtener punto mas cercano\n",
        "    punto_siguiente, distancia_sig = punto_mas_cerca(dataframeCP, ruta['ruta'].iloc[-1])\n",
        "    dataframeCP.iloc[punto_siguiente.name,2] = True\n",
        "    ruta['ruta'] = ruta['ruta'].append({'X': punto_siguiente.X, 'Y':punto_siguiente.Y},ignore_index=True)\n",
        "    ruta['distancia']+= distancia_sig\n",
        "\n",
        "  #conectar con el inicio\n",
        "  ruta['ruta'] = ruta['ruta'].append({'X': ruta['ruta'].iloc[0].X, 'Y':ruta['ruta'].iloc[0].Y},ignore_index=True)\n",
        "  ruta['distancia']+= distancia(ruta['ruta'].iloc[-1], ruta['ruta'].iloc[-2])\n",
        "  \n",
        "  return ruta"
      ]
    },
    {
      "cell_type": "markdown",
      "metadata": {
        "id": "aCUeiW-Qliwk"
      },
      "source": [
        "##### 1.7 Definicion de funcion encargada de invertir el orden de un dataframe"
      ]
    },
    {
      "cell_type": "code",
      "execution_count": null,
      "metadata": {
        "id": "xFhbARcVliwk"
      },
      "outputs": [],
      "source": [
        "def invertir(dataframe, inicio, fin):\n",
        "    \"\"\"\n",
        "    Invierte desde inicio + 1, hasta fin\n",
        "    \"\"\"\n",
        "    return pd.concat([dataframe.iloc[:inicio+1],dataframe[inicio+1:fin+1:][::-1],dataframe.iloc[fin+1:]])"
      ]
    },
    {
      "cell_type": "code",
      "execution_count": null,
      "metadata": {
        "id": "-0qtcTLCliwl"
      },
      "outputs": [],
      "source": [
        "def distancia2( punto1, punto2):\n",
        "  return np.power(punto1[0]-punto2[0],2) + np.power(punto1[1]-punto2[1],2)"
      ]
    },
    {
      "cell_type": "code",
      "execution_count": null,
      "metadata": {
        "id": "VrX75_HclvAu"
      },
      "outputs": [],
      "source": [
        "def puntos_mas_cercanos(df,df2, punto_inicial):\n",
        "  \"\"\"Determina los siguientes puntos más cercanos con respecto al punto_inicial,\n",
        "  si no encuentra un punto se retorna el mismo.\n",
        "\n",
        "  Parameters\n",
        "  ----------\n",
        "    df : Dataframe de puntos totales\n",
        "    df2 : Dataframe de puntos ya utilizados\n",
        "    punto_inicial : punto a partir de donde se busca el siguiente punto\n",
        "\n",
        "  Returns\n",
        "  ----------\n",
        "\n",
        "    array de df.row : array de puntos mas cercanos\n",
        "    int : longitud con el punto mas cercano o numpy.inf\n",
        "  \"\"\"\n",
        "\n",
        "  # longitud infinita\n",
        "  min_lenght = np.inf\n",
        "\n",
        "  # el siguiente punto más cercano es si mismo\n",
        "  next = [punto_inicial]\n",
        "\n",
        "  for index, row in df.iterrows():\n",
        "    # no debe de existir en el segundo dataframe y debe de ser una longitud menor a la\n",
        "    # longitud minima\n",
        "    if(existe_en_dataframe(df2,row) != True and distancia(row, punto_inicial) <= min_lenght):\n",
        "      if (distancia(row, punto_inicial) < min_lenght):\n",
        "        next = [row]\n",
        "        min_lenght = distancia(row, punto_inicial)\n",
        "      else:\n",
        "        next.append(row)\n",
        "\n",
        "  # retorna el punto y la longitud\n",
        "  return next, min_lenght"
      ]
    },
    {
      "cell_type": "code",
      "source": [
        "def puntos_mas_cercanos2(df,df2, punto_inicial):\n",
        "  \"\"\"Determina los siguientes puntos más cercanos con respecto al punto_inicial,\n",
        "  si no encuentra un punto se retorna el mismo.\n",
        "\n",
        "  Parameters\n",
        "  ----------\n",
        "    df : Dataframe de puntos totales\n",
        "    df2 : Dataframe de puntos ya utilizados\n",
        "    punto_inicial : punto a partir de donde se busca el siguiente punto\n",
        "\n",
        "  Returns\n",
        "  ----------\n",
        "\n",
        "    array de df.row : array de puntos mas cercanos\n",
        "    int : longitud con el punto mas cercano o numpy.inf\n",
        "  \"\"\"\n",
        "\n",
        "  # longitud infinita\n",
        "  min_lenght = np.inf\n",
        "\n",
        "  # el siguiente punto más cercano es si mismo\n",
        "  next = [punto_inicial]\n",
        "\n",
        "  for index, row in df.iterrows():\n",
        "    # no debe de existir en el segundo dataframe y debe de ser una longitud menor a la\n",
        "    # longitud minima\n",
        "    if(existe_en_dataframe(df2,row) != True and distancia2(row, punto_inicial) <= min_lenght):\n",
        "      if (distancia2(row, punto_inicial) < min_lenght):\n",
        "        next = [row]\n",
        "        min_lenght = distancia2(row, punto_inicial)\n",
        "      else:\n",
        "        next.append(row)\n",
        "\n",
        "  # retorna el punto y la longitud\n",
        "  return next, min_lenght"
      ],
      "metadata": {
        "id": "oriDn3liQhYB"
      },
      "execution_count": null,
      "outputs": []
    },
    {
      "cell_type": "code",
      "source": [
        "def distancia_total(dataframe):\n",
        "  sum_distancia = 0\n",
        "  for i in range(len(dataframe)-1):\n",
        "    sum_distancia+=distancia(dataframe.iloc[i], dataframe.iloc[i+1])\n",
        "\n",
        "  return sum_distancia"
      ],
      "metadata": {
        "id": "V-huWWglWJou"
      },
      "execution_count": 210,
      "outputs": []
    },
    {
      "cell_type": "markdown",
      "metadata": {
        "id": "7ygSzq_8lvAu"
      },
      "source": [
        "##### 1.6 Ejemplo de medición de tiempo "
      ]
    },
    {
      "cell_type": "code",
      "execution_count": null,
      "metadata": {
        "colab": {
          "base_uri": "https://localhost:8080/"
        },
        "id": "4IjofOCElvAu",
        "outputId": "7a5963d3-02f4-4404-e392-902948d52842"
      },
      "outputs": [
        {
          "output_type": "stream",
          "name": "stdout",
          "text": [
            "9.441375732421875e-05\n"
          ]
        }
      ],
      "source": [
        "# COMO MEDIR EL TIEMPO DE EJECUCION\n",
        "\n",
        "# capturamos la hora de inicializacion\n",
        "inicio_time = time.time()\n",
        "\n",
        "# aqui deberiamos agregar cada una de las llamadas a las funciones\n",
        "# como ejemplo una operacion simple\n",
        "y = 25*3\n",
        "\n",
        "# capturamos la hora de finalizacion\n",
        "fin_time = time.time()\n",
        "\n",
        "print(fin_time-inicio_time)"
      ]
    },
    {
      "cell_type": "markdown",
      "metadata": {
        "id": "SHPLr03klvAu"
      },
      "source": [
        "## 2. TSP con Backtracking"
      ]
    },
    {
      "cell_type": "markdown",
      "metadata": {
        "id": "dD6NkI-sliwn"
      },
      "source": [
        "### 2.1 Funciones"
      ]
    },
    {
      "cell_type": "code",
      "execution_count": 213,
      "metadata": {
        "id": "n1vYpiFSlvAv"
      },
      "outputs": [],
      "source": [
        "def search(ruta_optima, ruta, grafo, inicio):\n",
        "  expandido = 1\n",
        "  for h in range(0,len(grafo)):\n",
        "    punto = {\"X\": grafo.iloc[h].X, \"Y\": grafo.iloc[h].Y}\n",
        "    if(not existe_en_dataframe(ruta['ruta'], punto)):\n",
        "      ruta['ruta'] = ruta['ruta'].append(punto, ignore_index = True)\n",
        "      ruta['distancia'] = distancia_total(ruta['ruta'])\n",
        "      ruta_optima, expandidos_hijos = search(ruta_optima, ruta, grafo, inicio)\n",
        "      expandido+= expandidos_hijos\n",
        "      ruta['ruta'] = ruta['ruta'].drop([len(ruta['ruta'])-1], axis=0)\n",
        "      ruta['distancia'] = distancia_total(ruta['ruta'])\n",
        "\n",
        "  #conectar con el primer punto solo si la ruta ya fue totalmente recorrida\n",
        "  if ( len(ruta['ruta']) == len(grafo) ):\n",
        "    punto = {\"X\": grafo.iloc[inicio].X, \"Y\": grafo.iloc[inicio].Y}\n",
        "    ruta['ruta'] = ruta['ruta'].append(punto, ignore_index = True)\n",
        "    ruta['distancia'] = distancia_total(ruta['ruta'])\n",
        "    print(ruta)\n",
        "\n",
        "  if (ruta['distancia'] <= ruta_optima['distancia'] and len(ruta['ruta']) == (len(grafo)+1)) :\n",
        "    if(ruta['distancia'] < ruta_optima['distancia']):\n",
        "\n",
        "      ruta_optima['ruta'] = [ruta['ruta'].copy()]\n",
        "      ruta_optima['distancia'] = ruta['distancia']\n",
        "\n",
        "    elif(ruta['distancia'] == ruta_optima['distancia']):\n",
        "\n",
        "      ruta_optima['ruta'].append(ruta['ruta'].copy())\n",
        "      ruta_optima['distancia'] = ruta['distancia']\n",
        "\n",
        "  if(len(ruta['ruta']) == (len(grafo)+1)):\n",
        "    #borrar la conexion con el inicio\n",
        "    ruta['ruta'] = ruta['ruta'].drop([len(ruta['ruta'])-1], axis=0)\n",
        "    ruta['distancia'] = distancia_total(ruta['ruta'])\n",
        "    \n",
        "  return ruta_optima, expandido"
      ]
    },
    {
      "cell_type": "code",
      "execution_count": null,
      "metadata": {
        "id": "EvGvufB5lvAv"
      },
      "outputs": [],
      "source": [
        "def backtracking(dataframe, inicio):\n",
        "  ruta = {\n",
        "    'ruta': pd.DataFrame(columns = ['X' , 'Y']),\n",
        "    'distancia': 0\n",
        "  }\n",
        "  ruta_optima = {\n",
        "    'ruta': [],\n",
        "    'distancia': np.inf\n",
        "  }\n",
        "  ruta['ruta'] = ruta['ruta'].append({'X': dataframe.iloc[inicio].X, 'Y':dataframe.iloc[inicio].Y},ignore_index=True)\n",
        "  return search(ruta_optima, ruta, dataframe, inicio)"
      ]
    },
    {
      "cell_type": "markdown",
      "metadata": {
        "id": "VjhsUP8xlvAv"
      },
      "source": [
        "## 3. TSP con heuristica"
      ]
    },
    {
      "cell_type": "markdown",
      "metadata": {
        "id": "OhbW9zB9liwo"
      },
      "source": [
        "### 3.1 Funciones"
      ]
    },
    {
      "cell_type": "code",
      "execution_count": null,
      "metadata": {
        "id": "lH7pXL42liwo"
      },
      "outputs": [],
      "source": [
        "def ruta2Optima(dataframe, inicio):\n",
        "  # realizar una copia para no afectar al original\n",
        "  dataframeCP = dataframe.copy()\n",
        "    \n",
        "  # crear un diccionario\n",
        "  ruta = {\n",
        "    'ruta': pd.DataFrame(columns = ['X' , 'Y']),  # dataframe de puntos que representan el orden del recorrido\n",
        "    'distancia': 0\n",
        "  }\n",
        "\n",
        "  # agregamos el punto inicial\n",
        "  ruta['ruta'] = ruta['ruta'].append({'X': dataframeCP.iloc[inicio].X, 'Y':dataframeCP.iloc[inicio].Y},ignore_index=True)\n",
        "\n",
        "  # mientras no haya un punto sin visitar\n",
        "  while(len(ruta['ruta'])!= len(dataframe)):\n",
        "        \n",
        "    #obtener puntos mas cercanos\n",
        "    puntos_siguientes, distancia_sig = puntos_mas_cercanos2(dataframeCP,ruta['ruta'], ruta['ruta'].iloc[-1])\n",
        "    \n",
        "    # array de heuristicas\n",
        "    heuristicas = []\n",
        "    \n",
        "    # generar heuristicas por cada punto posible\n",
        "    for punto in puntos_siguientes:\n",
        "        \n",
        "        # nuevo se hace una copia del estado actual\n",
        "        ruta_cp = ruta.copy()\n",
        "        \n",
        "        # se agrega el punto cercano al estado obteniendo asi el siguiente estado a analizar\n",
        "        ruta_cp['ruta'] = ruta_cp['ruta'].append({'X': punto.X, 'Y':punto.Y},ignore_index=True)\n",
        "        ruta_cp['distancia']+= distancia_sig\n",
        "        \n",
        "        # se calcula la conveniencia del estado de acuerto a la heuristica 2opt y se agrega a las heuristicas\n",
        "        heuristicas.append(opt2_local(ruta_cp, len(ruta_cp['ruta'])-2))\n",
        "        \n",
        "    # la mejor heuristica es aquella que se desconoce\n",
        "    heuristica = np.inf\n",
        "    \n",
        "    # buscar por cada heuristica\n",
        "    for ruta_2opt in heuristicas:\n",
        "        \n",
        "        # la heuristica es mejor que la que  tenemos\n",
        "        if(ruta_2opt['distancia']<heuristica):\n",
        "            \n",
        "            # actualizamos el valor de la heuristica\n",
        "            heuristica = ruta_2opt['distancia']\n",
        "            \n",
        "            # esa heuristica sera nuestro proximo estado\n",
        "            ruta = ruta_2opt\n",
        "            \n",
        "  #conectar con el inicio\n",
        "  ruta['ruta'] = ruta['ruta'].append({'X': ruta['ruta'].iloc[0].X, 'Y':ruta['ruta'].iloc[0].Y},ignore_index=True)\n",
        "  ruta['distancia']+= distancia(ruta['ruta'].iloc[-1], ruta['ruta'].iloc[-2])\n",
        "  \n",
        "  # aplicar la optimizacion al volver al inicio\n",
        "  return opt2_local(ruta, len(ruta_cp['ruta'])-2)"
      ]
    },
    {
      "cell_type": "code",
      "execution_count": null,
      "metadata": {
        "id": "6D_iz-WGliwo"
      },
      "outputs": [],
      "source": [
        "def opt2_local(ruta, fin):\n",
        "    \"\"\"optimizacion local por 2opt,\n",
        "\n",
        "    Parameters\n",
        "    ----------\n",
        "    ruta : ruta la cual optimizar\n",
        "    fin: hasta que punto hacer la optimizacion\n",
        "\n",
        "    Returns\n",
        "    ----------\n",
        "\n",
        "    ruta optimizada\n",
        "    \"\"\"\n",
        "    foundImprovement = True\n",
        "    \n",
        "    # mientras se encuentre una optmimizacion se vuelve a analizar desde el principio debido a un cambio de ruta\n",
        "    while (foundImprovement):\n",
        "        foundImprovement = False;\n",
        "\n",
        "        # desde el inicio hasta el final\n",
        "        for i in range(fin-1):\n",
        "            \n",
        "            # calcular la mejora de distancia si se incercambia dos aristas\n",
        "            lengthDelta = - distancia2(ruta['ruta'].iloc[i],ruta['ruta'].iloc[i+1]) - distancia2(ruta['ruta'].iloc[fin],ruta['ruta'].iloc[fin+1])+ distancia2(ruta['ruta'].iloc[i],ruta['ruta'].iloc[fin])+ distancia2(ruta['ruta'].iloc[i+1],ruta['ruta'].iloc[fin+1])\n",
        "\n",
        "            # si la distancia es negativa, significa una mejora\n",
        "            if (lengthDelta < 0) :\n",
        "                \n",
        "                # invertimos la ruta entre \"i+1\" e \"fin\"\n",
        "                ruta['ruta'] = invertir(ruta['ruta'], i, fin)\n",
        "                \n",
        "                # aplicamos la mejora de la ruta\n",
        "                ruta['distancia'] += lengthDelta;\n",
        "                \n",
        "                # anuncimamos un cambio en la ruta\n",
        "                foundImprovement = True;\n",
        "    return ruta"
      ]
    },
    {
      "cell_type": "markdown",
      "metadata": {
        "id": "lUMvjHUOlvAw"
      },
      "source": [
        "## Pruebas varias"
      ]
    },
    {
      "cell_type": "markdown",
      "metadata": {
        "id": "FF9_KY08lvAw"
      },
      "source": [
        "### Pruebas de distancia entre puntos"
      ]
    },
    {
      "cell_type": "code",
      "execution_count": null,
      "metadata": {
        "colab": {
          "base_uri": "https://localhost:8080/"
        },
        "id": "EgFK5lxblvAw",
        "outputId": "b2851ba8-da74-4de1-c17e-5519a0cb29c2"
      },
      "outputs": [
        {
          "output_type": "execute_result",
          "data": {
            "text/plain": [
              "41.6293165929973"
            ]
          },
          "metadata": {},
          "execution_count": 184
        }
      ],
      "source": [
        "distancia(puntosAleatorios.iloc[inicio], puntosAleatorios.iloc[inicio+1])"
      ]
    },
    {
      "cell_type": "markdown",
      "metadata": {
        "id": "RDmpK2ppliwp"
      },
      "source": [
        "### Pruebas ruta con mas avaro"
      ]
    },
    {
      "cell_type": "code",
      "execution_count": null,
      "metadata": {
        "colab": {
          "base_uri": "https://localhost:8080/"
        },
        "id": "8ZCiZzN5lvAw",
        "outputId": "068ed894-5eff-412d-ae73-6ffb5a001a44"
      },
      "outputs": [
        {
          "output_type": "stream",
          "name": "stdout",
          "text": [
            "0.046732425689697266\n"
          ]
        }
      ],
      "source": [
        "inicio_time_avaro = time.time()\n",
        "\n",
        "ruta_optima = rutaOptima(puntosAleatorios, inicio)\n",
        "\n",
        "# capturamos la hora de finalizacion\n",
        "fin_time_avaro = time.time()\n",
        "\n",
        "print(fin_time_avaro-inicio_time_avaro)"
      ]
    },
    {
      "cell_type": "markdown",
      "metadata": {
        "id": "gUoXcaKnlvAw"
      },
      "source": [
        "### Pruebas ruta con backtracking"
      ]
    },
    {
      "cell_type": "code",
      "execution_count": 214,
      "metadata": {
        "colab": {
          "base_uri": "https://localhost:8080/"
        },
        "id": "JAw9qOKflvAw",
        "outputId": "cb744258-b2e1-4978-c336-7b5893314ff7"
      },
      "outputs": [
        {
          "output_type": "stream",
          "name": "stdout",
          "text": [
            "{'ruta':     X   Y\n",
            "0  98  29\n",
            "1  60  46\n",
            "2   1  86\n",
            "3  38   7\n",
            "4  55  32\n",
            "5  98  27\n",
            "6  98  29, 'distancia': 275.66791865153044}\n",
            "{'ruta':     X   Y\n",
            "0  98  29\n",
            "1  60  46\n",
            "2   1  86\n",
            "3  38   7\n",
            "4  98  27\n",
            "5  55  32\n",
            "6  98  29, 'distancia': 349.7855630637407}\n",
            "{'ruta':     X   Y\n",
            "0  98  29\n",
            "1  60  46\n",
            "2   1  86\n",
            "3  55  32\n",
            "4  38   7\n",
            "5  98  27\n",
            "6  98  29, 'distancia': 284.7559686289609}\n",
            "{'ruta':     X   Y\n",
            "0  98  29\n",
            "1  60  46\n",
            "2   1  86\n",
            "3  55  32\n",
            "4  98  27\n",
            "5  38   7\n",
            "6  98  29, 'distancia': 359.7194385918075}\n",
            "{'ruta':     X   Y\n",
            "0  98  29\n",
            "1  60  46\n",
            "2   1  86\n",
            "3  98  27\n",
            "4  38   7\n",
            "5  55  32\n",
            "6  98  29, 'distancia': 363.0270962211982}\n",
            "{'ruta':     X   Y\n",
            "0  98  29\n",
            "1  60  46\n",
            "2   1  86\n",
            "3  98  27\n",
            "4  55  32\n",
            "5  38   7\n",
            "6  98  29, 'distancia': 363.8729217718345}\n",
            "{'ruta':     X   Y\n",
            "0  98  29\n",
            "1  60  46\n",
            "2  38   7\n",
            "3   1  86\n",
            "4  55  32\n",
            "5  98  27\n",
            "6  98  29, 'distancia': 295.29911090970495}\n",
            "{'ruta':     X   Y\n",
            "0  98  29\n",
            "1  60  46\n",
            "2  38   7\n",
            "3   1  86\n",
            "4  98  27\n",
            "5  55  32\n",
            "6  98  29, 'distancia': 373.57023850194224}\n",
            "{'ruta':     X   Y\n",
            "0  98  29\n",
            "1  60  46\n",
            "2  38   7\n",
            "3  55  32\n",
            "4   1  86\n",
            "5  98  27\n",
            "6  98  29, 'distancia': 308.5406440671624}\n",
            "{'ruta':     X   Y\n",
            "0  98  29\n",
            "1  60  46\n",
            "2  38   7\n",
            "3  55  32\n",
            "4  98  27\n",
            "5   1  86\n",
            "6  98  29, 'distancia': 385.9706108517769}\n",
            "{'ruta':     X   Y\n",
            "0  98  29\n",
            "1  60  46\n",
            "2  38   7\n",
            "3  98  27\n",
            "4   1  86\n",
            "5  55  32\n",
            "6  98  29, 'distancia': 382.65828847937263}\n",
            "{'ruta':     X   Y\n",
            "0  98  29\n",
            "1  60  46\n",
            "2  38   7\n",
            "3  98  27\n",
            "4  55  32\n",
            "5   1  86\n",
            "6  98  29, 'distancia': 381.81712767174986}\n",
            "{'ruta':     X   Y\n",
            "0  98  29\n",
            "1  60  46\n",
            "2  55  32\n",
            "3   1  86\n",
            "4  38   7\n",
            "5  98  27\n",
            "6  98  29, 'distancia': 285.34378486208806}\n",
            "{'ruta':     X   Y\n",
            "0  98  29\n",
            "1  60  46\n",
            "2  55  32\n",
            "3   1  86\n",
            "4  98  27\n",
            "5  38   7\n",
            "6  98  29, 'distancia': 373.5487879823921}\n",
            "{'ruta':     X   Y\n",
            "0  98  29\n",
            "1  60  46\n",
            "2  55  32\n",
            "3  38   7\n",
            "4   1  86\n",
            "5  98  27\n",
            "6  98  29, 'distancia': 289.4972680421151}\n",
            "{'ruta':     X   Y\n",
            "0  98  29\n",
            "1  60  46\n",
            "2  55  32\n",
            "3  38   7\n",
            "4  98  27\n",
            "5   1  86\n",
            "6  98  29, 'distancia': 376.01528480416005}\n",
            "{'ruta':     X   Y\n",
            "0  98  29\n",
            "1  60  46\n",
            "2  55  32\n",
            "3  98  27\n",
            "4   1  86\n",
            "5  38   7\n",
            "6  98  29, 'distancia': 364.4607380049617}\n",
            "{'ruta':     X   Y\n",
            "0  98  29\n",
            "1  60  46\n",
            "2  55  32\n",
            "3  98  27\n",
            "4  38   7\n",
            "5   1  86\n",
            "6  98  29, 'distancia': 362.7737516467026}\n",
            "{'ruta':     X   Y\n",
            "0  98  29\n",
            "1  60  46\n",
            "2  98  27\n",
            "3   1  86\n",
            "4  38   7\n",
            "5  55  32\n",
            "6  98  29, 'distancia': 358.2210149917972}\n",
            "{'ruta':     X   Y\n",
            "0  98  29\n",
            "1  60  46\n",
            "2  98  27\n",
            "3   1  86\n",
            "4  55  32\n",
            "5  38   7\n",
            "6  98  29, 'distancia': 368.15489051986395}\n",
            "{'ruta':     X   Y\n",
            "0  98  29\n",
            "1  60  46\n",
            "2  98  27\n",
            "3  38   7\n",
            "4   1  86\n",
            "5  55  32\n",
            "6  98  29, 'distancia': 354.0675318117702}\n",
            "{'ruta':     X   Y\n",
            "0  98  29\n",
            "1  60  46\n",
            "2  98  27\n",
            "3  38   7\n",
            "4  55  32\n",
            "5   1  86\n",
            "6  98  29, 'distancia': 366.4679041616049}\n",
            "{'ruta':     X   Y\n",
            "0  98  29\n",
            "1  60  46\n",
            "2  98  27\n",
            "3  55  32\n",
            "4   1  86\n",
            "5  38   7\n",
            "6  98  29, 'distancia': 354.91335736240654}\n",
            "{'ruta':     X   Y\n",
            "0  98  29\n",
            "1  60  46\n",
            "2  98  27\n",
            "3  55  32\n",
            "4  38   7\n",
            "5   1  86\n",
            "6  98  29, 'distancia': 357.37985418417446}\n",
            "{'ruta':     X   Y\n",
            "0  98  29\n",
            "1   1  86\n",
            "2  60  46\n",
            "3  38   7\n",
            "4  55  32\n",
            "5  98  27\n",
            "6  98  29, 'distancia': 304.0882919716868}\n",
            "{'ruta':     X   Y\n",
            "0  98  29\n",
            "1   1  86\n",
            "2  60  46\n",
            "3  38   7\n",
            "4  98  27\n",
            "5  55  32\n",
            "6  98  29, 'distancia': 378.20593638389704}\n",
            "{'ruta':     X   Y\n",
            "0  98  29\n",
            "1   1  86\n",
            "2  60  46\n",
            "3  55  32\n",
            "4  38   7\n",
            "5  98  27\n",
            "6  98  29, 'distancia': 294.1329659240699}\n",
            "{'ruta':     X   Y\n",
            "0  98  29\n",
            "1   1  86\n",
            "2  60  46\n",
            "3  55  32\n",
            "4  98  27\n",
            "5  38   7\n",
            "6  98  29, 'distancia': 369.0964358869165}\n",
            "{'ruta':     X   Y\n",
            "0  98  29\n",
            "1   1  86\n",
            "2  60  46\n",
            "3  98  27\n",
            "4  38   7\n",
            "5  55  32\n",
            "6  98  29, 'distancia': 362.85671287375203}\n",
            "{'ruta':     X   Y\n",
            "0  98  29\n",
            "1   1  86\n",
            "2  60  46\n",
            "3  98  27\n",
            "4  55  32\n",
            "5  38   7\n",
            "6  98  29, 'distancia': 363.70253842438837}\n",
            "{'ruta':     X   Y\n",
            "0  98  29\n",
            "1   1  86\n",
            "2  38   7\n",
            "3  60  46\n",
            "4  55  32\n",
            "5  98  27\n",
            "6  98  29, 'distancia': 304.6761082048139}\n",
            "{'ruta':     X   Y\n",
            "0  98  29\n",
            "1   1  86\n",
            "2  38   7\n",
            "3  60  46\n",
            "4  98  27\n",
            "5  55  32\n",
            "6  98  29, 'distancia': 373.39985515449604}\n",
            "{'ruta':     X   Y\n",
            "0  98  29\n",
            "1   1  86\n",
            "2  38   7\n",
            "3  55  32\n",
            "4  60  46\n",
            "5  98  27\n",
            "6  98  29, 'distancia': 289.3268846946689}\n",
            "{'ruta':     X   Y\n",
            "0  98  29\n",
            "1   1  86\n",
            "2  38   7\n",
            "3  55  32\n",
            "4  98  27\n",
            "5  60  46\n",
            "6  98  29, 'distancia': 357.3798541841744}\n",
            "{'ruta':     X   Y\n",
            "0  98  29\n",
            "1   1  86\n",
            "2  38   7\n",
            "3  98  27\n",
            "4  60  46\n",
            "5  55  32\n",
            "6  98  29, 'distancia': 363.44452910687914}\n",
            "{'ruta':     X   Y\n",
            "0  98  29\n",
            "1   1  86\n",
            "2  38   7\n",
            "3  98  27\n",
            "4  55  32\n",
            "5  60  46\n",
            "6  98  29, 'distancia': 362.7737516467025}\n",
            "{'ruta':     X   Y\n",
            "0  98  29\n",
            "1   1  86\n",
            "2  55  32\n",
            "3  60  46\n",
            "4  38   7\n",
            "5  98  27\n",
            "6  98  29, 'distancia': 313.76415818224433}\n",
            "{'ruta':     X   Y\n",
            "0  98  29\n",
            "1   1  86\n",
            "2  55  32\n",
            "3  60  46\n",
            "4  98  27\n",
            "5  38   7\n",
            "6  98  29, 'distancia': 373.3784046349459}\n",
            "{'ruta':     X   Y\n",
            "0  98  29\n",
            "1   1  86\n",
            "2  55  32\n",
            "3  38   7\n",
            "4  60  46\n",
            "5  98  27\n",
            "6  98  29, 'distancia': 308.3702607197162}\n",
            "{'ruta':     X   Y\n",
            "0  98  29\n",
            "1   1  86\n",
            "2  55  32\n",
            "3  38   7\n",
            "4  98  27\n",
            "5  60  46\n",
            "6  98  29, 'distancia': 366.4679041616049}\n",
            "{'ruta':     X   Y\n",
            "0  98  29\n",
            "1   1  86\n",
            "2  55  32\n",
            "3  98  27\n",
            "4  60  46\n",
            "5  38   7\n",
            "6  98  29, 'distancia': 383.3337306825628}\n",
            "{'ruta':     X   Y\n",
            "0  98  29\n",
            "1   1  86\n",
            "2  55  32\n",
            "3  98  27\n",
            "4  38   7\n",
            "5  60  46\n",
            "6  98  29, 'distancia': 381.81712767174986}\n",
            "{'ruta':     X   Y\n",
            "0  98  29\n",
            "1   1  86\n",
            "2  98  27\n",
            "3  60  46\n",
            "4  38   7\n",
            "5  55  32\n",
            "6  98  29, 'distancia': 386.6413883119535}\n",
            "{'ruta':     X   Y\n",
            "0  98  29\n",
            "1   1  86\n",
            "2  98  27\n",
            "3  60  46\n",
            "4  55  32\n",
            "5  38   7\n",
            "6  98  29, 'distancia': 377.53188781497295}\n",
            "{'ruta':     X   Y\n",
            "0  98  29\n",
            "1   1  86\n",
            "2  98  27\n",
            "3  38   7\n",
            "4  60  46\n",
            "5  55  32\n",
            "6  98  29, 'distancia': 392.0352857744816}\n",
            "{'ruta':     X   Y\n",
            "0  98  29\n",
            "1   1  86\n",
            "2  98  27\n",
            "3  38   7\n",
            "4  55  32\n",
            "5  60  46\n",
            "6  98  29, 'distancia': 376.01528480416005}\n",
            "{'ruta':     X   Y\n",
            "0  98  29\n",
            "1   1  86\n",
            "2  98  27\n",
            "3  55  32\n",
            "4  60  46\n",
            "5  38   7\n",
            "6  98  29, 'distancia': 392.88111132511796}\n",
            "{'ruta':     X   Y\n",
            "0  98  29\n",
            "1   1  86\n",
            "2  98  27\n",
            "3  55  32\n",
            "4  38   7\n",
            "5  60  46\n",
            "6  98  29, 'distancia': 385.9706108517769}\n",
            "{'ruta':     X   Y\n",
            "0  98  29\n",
            "1  38   7\n",
            "2  60  46\n",
            "3   1  86\n",
            "4  55  32\n",
            "5  98  27\n",
            "6  98  29, 'distancia': 301.62179514991885}\n",
            "{'ruta':     X   Y\n",
            "0  98  29\n",
            "1  38   7\n",
            "2  60  46\n",
            "3   1  86\n",
            "4  98  27\n",
            "5  55  32\n",
            "6  98  29, 'distancia': 379.89292274215614}\n",
            "{'ruta':     X   Y\n",
            "0  98  29\n",
            "1  38   7\n",
            "2  60  46\n",
            "3  55  32\n",
            "4   1  86\n",
            "5  98  27\n",
            "6  98  29, 'distancia': 315.4511445405035}\n",
            "{'ruta':     X   Y\n",
            "0  98  29\n",
            "1  38   7\n",
            "2  60  46\n",
            "3  55  32\n",
            "4  98  27\n",
            "5   1  86\n",
            "6  98  29, 'distancia': 392.88111132511796}\n",
            "{'ruta':     X   Y\n",
            "0  98  29\n",
            "1  38   7\n",
            "2  60  46\n",
            "3  98  27\n",
            "4   1  86\n",
            "5  55  32\n",
            "6  98  29, 'distancia': 384.1748914901856}\n",
            "{'ruta':     X   Y\n",
            "0  98  29\n",
            "1  38   7\n",
            "2  60  46\n",
            "3  98  27\n",
            "4  55  32\n",
            "5   1  86\n",
            "6  98  29, 'distancia': 383.3337306825628}\n",
            "{'ruta':     X   Y\n",
            "0  98  29\n",
            "1  38   7\n",
            "2   1  86\n",
            "3  60  46\n",
            "4  55  32\n",
            "5  98  27\n",
            "6  98  29, 'distancia': 282.5784191248715}\n",
            "{'ruta':     X   Y\n",
            "0  98  29\n",
            "1  38   7\n",
            "2   1  86\n",
            "3  60  46\n",
            "4  98  27\n",
            "5  55  32\n",
            "6  98  29, 'distancia': 351.30216607455367}\n",
            "{'ruta':     X   Y\n",
            "0  98  29\n",
            "1  38   7\n",
            "2   1  86\n",
            "3  55  32\n",
            "4  60  46\n",
            "5  98  27\n",
            "6  98  29, 'distancia': 286.860387872901}\n",
            "{'ruta':     X   Y\n",
            "0  98  29\n",
            "1  38   7\n",
            "2   1  86\n",
            "3  55  32\n",
            "4  98  27\n",
            "5  60  46\n",
            "6  98  29, 'distancia': 354.9133573624066}\n",
            "{'ruta':     X   Y\n",
            "0  98  29\n",
            "1  38   7\n",
            "2   1  86\n",
            "3  98  27\n",
            "4  60  46\n",
            "5  55  32\n",
            "6  98  29, 'distancia': 365.13151546513825}\n",
            "{'ruta':     X   Y\n",
            "0  98  29\n",
            "1  38   7\n",
            "2   1  86\n",
            "3  98  27\n",
            "4  55  32\n",
            "5  60  46\n",
            "6  98  29, 'distancia': 364.4607380049616}\n",
            "{'ruta':     X   Y\n",
            "0  98  29\n",
            "1  38   7\n",
            "2  55  32\n",
            "3  60  46\n",
            "4   1  86\n",
            "5  98  27\n",
            "6  98  29, 'distancia': 295.81995228232904}\n",
            "{'ruta':     X   Y\n",
            "0  98  29\n",
            "1  38   7\n",
            "2  55  32\n",
            "3  60  46\n",
            "4  98  27\n",
            "5   1  86\n",
            "6  98  29, 'distancia': 377.531887814973}\n",
            "{'ruta':     X   Y\n",
            "0  98  29\n",
            "1  38   7\n",
            "2  55  32\n",
            "3   1  86\n",
            "4  60  46\n",
            "5  98  27\n",
            "6  98  29, 'distancia': 286.2725716397739}\n",
            "{'ruta':     X   Y\n",
            "0  98  29\n",
            "1  38   7\n",
            "2  55  32\n",
            "3   1  86\n",
            "4  98  27\n",
            "5  60  46\n",
            "6  98  29, 'distancia': 368.154890519864}\n",
            "{'ruta':     X   Y\n",
            "0  98  29\n",
            "1  38   7\n",
            "2  55  32\n",
            "3  98  27\n",
            "4  60  46\n",
            "5   1  86\n",
            "6  98  29, 'distancia': 363.70253842438837}\n",
            "{'ruta':     X   Y\n",
            "0  98  29\n",
            "1  38   7\n",
            "2  55  32\n",
            "3  98  27\n",
            "4   1  86\n",
            "5  60  46\n",
            "6  98  29, 'distancia': 363.8729217718345}\n",
            "{'ruta':     X   Y\n",
            "0  98  29\n",
            "1  38   7\n",
            "2  98  27\n",
            "3  60  46\n",
            "4   1  86\n",
            "5  55  32\n",
            "6  98  29, 'distancia': 360.3902160519841}\n",
            "{'ruta':     X   Y\n",
            "0  98  29\n",
            "1  38   7\n",
            "2  98  27\n",
            "3  60  46\n",
            "4  55  32\n",
            "5   1  86\n",
            "6  98  29, 'distancia': 373.378404634946}\n",
            "{'ruta':     X   Y\n",
            "0  98  29\n",
            "1  38   7\n",
            "2  98  27\n",
            "3   1  86\n",
            "4  60  46\n",
            "5  55  32\n",
            "6  98  29, 'distancia': 369.93759669453925}\n",
            "{'ruta':     X   Y\n",
            "0  98  29\n",
            "1  38   7\n",
            "2  98  27\n",
            "3   1  86\n",
            "4  55  32\n",
            "5  60  46\n",
            "6  98  29, 'distancia': 373.5487879823921}\n",
            "{'ruta':     X   Y\n",
            "0  98  29\n",
            "1  38   7\n",
            "2  98  27\n",
            "3  55  32\n",
            "4  60  46\n",
            "5   1  86\n",
            "6  98  29, 'distancia': 369.0964358869165}\n",
            "{'ruta':     X   Y\n",
            "0  98  29\n",
            "1  38   7\n",
            "2  98  27\n",
            "3  55  32\n",
            "4   1  86\n",
            "5  60  46\n",
            "6  98  29, 'distancia': 359.7194385918075}\n",
            "{'ruta':     X   Y\n",
            "0  98  29\n",
            "1  55  32\n",
            "2  60  46\n",
            "3   1  86\n",
            "4  38   7\n",
            "5  98  27\n",
            "6  98  29, 'distancia': 281.7325935742352}\n",
            "{'ruta':     X   Y\n",
            "0  98  29\n",
            "1  55  32\n",
            "2  60  46\n",
            "3   1  86\n",
            "4  98  27\n",
            "5  38   7\n",
            "6  98  29, 'distancia': 369.93759669453925}\n",
            "{'ruta':     X   Y\n",
            "0  98  29\n",
            "1  55  32\n",
            "2  60  46\n",
            "3  38   7\n",
            "4   1  86\n",
            "5  98  27\n",
            "6  98  29, 'distancia': 305.51726901243666}\n",
            "{'ruta':     X   Y\n",
            "0  98  29\n",
            "1  55  32\n",
            "2  60  46\n",
            "3  38   7\n",
            "4  98  27\n",
            "5   1  86\n",
            "6  98  29, 'distancia': 392.0352857744816}\n",
            "{'ruta':     X   Y\n",
            "0  98  29\n",
            "1  55  32\n",
            "2  60  46\n",
            "3  98  27\n",
            "4   1  86\n",
            "5  38   7\n",
            "6  98  29, 'distancia': 365.13151546513825}\n",
            "{'ruta':     X   Y\n",
            "0  98  29\n",
            "1  55  32\n",
            "2  60  46\n",
            "3  98  27\n",
            "4  38   7\n",
            "5   1  86\n",
            "6  98  29, 'distancia': 363.44452910687914}\n",
            "{'ruta':     X   Y\n",
            "0  98  29\n",
            "1  55  32\n",
            "2   1  86\n",
            "3  60  46\n",
            "4  38   7\n",
            "5  98  27\n",
            "6  98  29, 'distancia': 300.7759695992825}\n",
            "{'ruta':     X   Y\n",
            "0  98  29\n",
            "1  55  32\n",
            "2   1  86\n",
            "3  60  46\n",
            "4  98  27\n",
            "5  38   7\n",
            "6  98  29, 'distancia': 360.3902160519841}\n",
            "{'ruta':     X   Y\n",
            "0  98  29\n",
            "1  55  32\n",
            "2   1  86\n",
            "3  38   7\n",
            "4  60  46\n",
            "5  98  27\n",
            "6  98  29, 'distancia': 295.9698883698815}\n",
            "{'ruta':     X   Y\n",
            "0  98  29\n",
            "1  55  32\n",
            "2   1  86\n",
            "3  38   7\n",
            "4  98  27\n",
            "5  60  46\n",
            "6  98  29, 'distancia': 354.0675318117702}\n",
            "{'ruta':     X   Y\n",
            "0  98  29\n",
            "1  55  32\n",
            "2   1  86\n",
            "3  98  27\n",
            "4  60  46\n",
            "5  38   7\n",
            "6  98  29, 'distancia': 384.1748914901856}\n",
            "{'ruta':     X   Y\n",
            "0  98  29\n",
            "1  55  32\n",
            "2   1  86\n",
            "3  98  27\n",
            "4  38   7\n",
            "5  60  46\n",
            "6  98  29, 'distancia': 382.6582884793727}\n",
            "{'ruta':     X   Y\n",
            "0  98  29\n",
            "1  55  32\n",
            "2  38   7\n",
            "3  60  46\n",
            "4   1  86\n",
            "5  98  27\n",
            "6  98  29, 'distancia': 304.92945277930954}\n",
            "{'ruta':     X   Y\n",
            "0  98  29\n",
            "1  55  32\n",
            "2  38   7\n",
            "3  60  46\n",
            "4  98  27\n",
            "5   1  86\n",
            "6  98  29, 'distancia': 386.6413883119535}\n",
            "{'ruta':     X   Y\n",
            "0  98  29\n",
            "1  55  32\n",
            "2  38   7\n",
            "3   1  86\n",
            "4  60  46\n",
            "5  98  27\n",
            "6  98  29, 'distancia': 276.33869611170707}\n",
            "{'ruta':     X   Y\n",
            "0  98  29\n",
            "1  55  32\n",
            "2  38   7\n",
            "3   1  86\n",
            "4  98  27\n",
            "5  60  46\n",
            "6  98  29, 'distancia': 358.22101499179723}\n",
            "{'ruta':     X   Y\n",
            "0  98  29\n",
            "1  55  32\n",
            "2  38   7\n",
            "3  98  27\n",
            "4  60  46\n",
            "5   1  86\n",
            "6  98  29, 'distancia': 362.85671287375203}\n",
            "{'ruta':     X   Y\n",
            "0  98  29\n",
            "1  55  32\n",
            "2  38   7\n",
            "3  98  27\n",
            "4   1  86\n",
            "5  60  46\n",
            "6  98  29, 'distancia': 363.02709622119824}\n",
            "{'ruta':     X   Y\n",
            "0  98  29\n",
            "1  55  32\n",
            "2  98  27\n",
            "3  60  46\n",
            "4   1  86\n",
            "5  38   7\n",
            "6  98  29, 'distancia': 351.3021660745536}\n",
            "{'ruta':     X   Y\n",
            "0  98  29\n",
            "1  55  32\n",
            "2  98  27\n",
            "3  60  46\n",
            "4  38   7\n",
            "5   1  86\n",
            "6  98  29, 'distancia': 373.39985515449604}\n",
            "{'ruta':     X   Y\n",
            "0  98  29\n",
            "1  55  32\n",
            "2  98  27\n",
            "3   1  86\n",
            "4  60  46\n",
            "5  38   7\n",
            "6  98  29, 'distancia': 379.8929227421561}\n",
            "{'ruta':     X   Y\n",
            "0  98  29\n",
            "1  55  32\n",
            "2  98  27\n",
            "3   1  86\n",
            "4  38   7\n",
            "5  60  46\n",
            "6  98  29, 'distancia': 373.5702385019422}\n",
            "{'ruta':     X   Y\n",
            "0  98  29\n",
            "1  55  32\n",
            "2  98  27\n",
            "3  38   7\n",
            "4  60  46\n",
            "5   1  86\n",
            "6  98  29, 'distancia': 378.205936383897}\n",
            "{'ruta':     X   Y\n",
            "0  98  29\n",
            "1  55  32\n",
            "2  98  27\n",
            "3  38   7\n",
            "4   1  86\n",
            "5  60  46\n",
            "6  98  29, 'distancia': 349.7855630637407}\n",
            "{'ruta':     X   Y\n",
            "0  98  29\n",
            "1  98  27\n",
            "2  60  46\n",
            "3   1  86\n",
            "4  38   7\n",
            "5  55  32\n",
            "6  98  29, 'distancia': 276.33869611170707}\n",
            "{'ruta':     X   Y\n",
            "0  98  29\n",
            "1  98  27\n",
            "2  60  46\n",
            "3   1  86\n",
            "4  55  32\n",
            "5  38   7\n",
            "6  98  29, 'distancia': 286.27257163977384}\n",
            "{'ruta':     X   Y\n",
            "0  98  29\n",
            "1  98  27\n",
            "2  60  46\n",
            "3  38   7\n",
            "4   1  86\n",
            "5  55  32\n",
            "6  98  29, 'distancia': 295.9698883698815}\n",
            "{'ruta':     X   Y\n",
            "0  98  29\n",
            "1  98  27\n",
            "2  60  46\n",
            "3  38   7\n",
            "4  55  32\n",
            "5   1  86\n",
            "6  98  29, 'distancia': 308.3702607197162}\n",
            "{'ruta':     X   Y\n",
            "0  98  29\n",
            "1  98  27\n",
            "2  60  46\n",
            "3  55  32\n",
            "4   1  86\n",
            "5  38   7\n",
            "6  98  29, 'distancia': 286.860387872901}\n",
            "{'ruta':     X   Y\n",
            "0  98  29\n",
            "1  98  27\n",
            "2  60  46\n",
            "3  55  32\n",
            "4  38   7\n",
            "5   1  86\n",
            "6  98  29, 'distancia': 289.32688469466893}\n",
            "{'ruta':     X   Y\n",
            "0  98  29\n",
            "1  98  27\n",
            "2   1  86\n",
            "3  60  46\n",
            "4  38   7\n",
            "5  55  32\n",
            "6  98  29, 'distancia': 304.92945277930954}\n",
            "{'ruta':     X   Y\n",
            "0  98  29\n",
            "1  98  27\n",
            "2   1  86\n",
            "3  60  46\n",
            "4  55  32\n",
            "5  38   7\n",
            "6  98  29, 'distancia': 295.819952282329}\n",
            "{'ruta':     X   Y\n",
            "0  98  29\n",
            "1  98  27\n",
            "2   1  86\n",
            "3  38   7\n",
            "4  60  46\n",
            "5  55  32\n",
            "6  98  29, 'distancia': 305.51726901243666}\n",
            "{'ruta':     X   Y\n",
            "0  98  29\n",
            "1  98  27\n",
            "2   1  86\n",
            "3  38   7\n",
            "4  55  32\n",
            "5  60  46\n",
            "6  98  29, 'distancia': 289.4972680421151}\n",
            "{'ruta':     X   Y\n",
            "0  98  29\n",
            "1  98  27\n",
            "2   1  86\n",
            "3  55  32\n",
            "4  60  46\n",
            "5  38   7\n",
            "6  98  29, 'distancia': 315.4511445405035}\n",
            "{'ruta':     X   Y\n",
            "0  98  29\n",
            "1  98  27\n",
            "2   1  86\n",
            "3  55  32\n",
            "4  38   7\n",
            "5  60  46\n",
            "6  98  29, 'distancia': 308.54064406716236}\n",
            "{'ruta':     X   Y\n",
            "0  98  29\n",
            "1  98  27\n",
            "2  38   7\n",
            "3  60  46\n",
            "4   1  86\n",
            "5  55  32\n",
            "6  98  29, 'distancia': 300.7759695992825}\n",
            "{'ruta':     X   Y\n",
            "0  98  29\n",
            "1  98  27\n",
            "2  38   7\n",
            "3  60  46\n",
            "4  55  32\n",
            "5   1  86\n",
            "6  98  29, 'distancia': 313.7641581822444}\n",
            "{'ruta':     X   Y\n",
            "0  98  29\n",
            "1  98  27\n",
            "2  38   7\n",
            "3   1  86\n",
            "4  60  46\n",
            "5  55  32\n",
            "6  98  29, 'distancia': 281.7325935742352}\n",
            "{'ruta':     X   Y\n",
            "0  98  29\n",
            "1  98  27\n",
            "2  38   7\n",
            "3   1  86\n",
            "4  55  32\n",
            "5  60  46\n",
            "6  98  29, 'distancia': 285.34378486208806}\n",
            "{'ruta':     X   Y\n",
            "0  98  29\n",
            "1  98  27\n",
            "2  38   7\n",
            "3  55  32\n",
            "4  60  46\n",
            "5   1  86\n",
            "6  98  29, 'distancia': 294.1329659240699}\n",
            "{'ruta':     X   Y\n",
            "0  98  29\n",
            "1  98  27\n",
            "2  38   7\n",
            "3  55  32\n",
            "4   1  86\n",
            "5  60  46\n",
            "6  98  29, 'distancia': 284.7559686289609}\n",
            "{'ruta':     X   Y\n",
            "0  98  29\n",
            "1  98  27\n",
            "2  55  32\n",
            "3  60  46\n",
            "4   1  86\n",
            "5  38   7\n",
            "6  98  29, 'distancia': 282.5784191248715}\n",
            "{'ruta':     X   Y\n",
            "0  98  29\n",
            "1  98  27\n",
            "2  55  32\n",
            "3  60  46\n",
            "4  38   7\n",
            "5   1  86\n",
            "6  98  29, 'distancia': 304.6761082048139}\n",
            "{'ruta':     X   Y\n",
            "0  98  29\n",
            "1  98  27\n",
            "2  55  32\n",
            "3   1  86\n",
            "4  60  46\n",
            "5  38   7\n",
            "6  98  29, 'distancia': 301.62179514991885}\n",
            "{'ruta':     X   Y\n",
            "0  98  29\n",
            "1  98  27\n",
            "2  55  32\n",
            "3   1  86\n",
            "4  38   7\n",
            "5  60  46\n",
            "6  98  29, 'distancia': 295.29911090970495}\n",
            "{'ruta':     X   Y\n",
            "0  98  29\n",
            "1  98  27\n",
            "2  55  32\n",
            "3  38   7\n",
            "4  60  46\n",
            "5   1  86\n",
            "6  98  29, 'distancia': 304.0882919716867}\n",
            "{'ruta':     X   Y\n",
            "0  98  29\n",
            "1  98  27\n",
            "2  55  32\n",
            "3  38   7\n",
            "4   1  86\n",
            "5  60  46\n",
            "6  98  29, 'distancia': 275.6679186515305}\n",
            "8.445950984954834\n",
            "326\n"
          ]
        }
      ],
      "source": [
        "inicio_time_back = time.time()\n",
        "\n",
        "ruta_backtracking, expandidos_back = backtracking(puntosAleatorios, inicio)\n",
        "# capturamos la hora de finalizacion\n",
        "fin_time_back = time.time()\n",
        "\n",
        "print(fin_time_back-inicio_time_back)\n",
        "print(expandidos_back)"
      ]
    },
    {
      "cell_type": "markdown",
      "metadata": {
        "id": "NhQrWyU1liwq"
      },
      "source": [
        "### Pruebas ruta con heuristica"
      ]
    },
    {
      "cell_type": "code",
      "execution_count": 221,
      "metadata": {
        "id": "O27_QQYfliwr",
        "colab": {
          "base_uri": "https://localhost:8080/"
        },
        "outputId": "cd392e32-2154-4612-9f93-3598013de68e"
      },
      "outputs": [
        {
          "output_type": "stream",
          "name": "stdout",
          "text": [
            "0.14972186088562012\n"
          ]
        }
      ],
      "source": [
        "inicio_time_heuristica = time.time()\n",
        "\n",
        "ruta_optima2opt = ruta2Optima(puntosAleatorios, inicio)\n",
        "# capturamos la hora de finalizacion\n",
        "fin_time_heuristica = time.time()\n",
        "\n",
        "print(fin_time_heuristica-inicio_time_heuristica)"
      ]
    },
    {
      "cell_type": "markdown",
      "metadata": {
        "id": "co2nsLPTlvAx"
      },
      "source": [
        "## Graficos"
      ]
    },
    {
      "cell_type": "code",
      "execution_count": 222,
      "metadata": {
        "id": "Mv4FS6SflvAx",
        "colab": {
          "base_uri": "https://localhost:8080/",
          "height": 542
        },
        "outputId": "af6d4231-640a-4775-8a46-11e0c56c4e5c"
      },
      "outputs": [
        {
          "output_type": "display_data",
          "data": {
            "text/html": [
              "<html>\n",
              "<head><meta charset=\"utf-8\" /></head>\n",
              "<body>\n",
              "    <div>            <script src=\"https://cdnjs.cloudflare.com/ajax/libs/mathjax/2.7.5/MathJax.js?config=TeX-AMS-MML_SVG\"></script><script type=\"text/javascript\">if (window.MathJax) {MathJax.Hub.Config({SVG: {font: \"STIX-Web\"}});}</script>                <script type=\"text/javascript\">window.PlotlyConfig = {MathJaxConfig: 'local'};</script>\n",
              "        <script src=\"https://cdn.plot.ly/plotly-2.8.3.min.js\"></script>                <div id=\"2b33e5c5-a7ce-46d9-bcb3-f2e408bafca3\" class=\"plotly-graph-div\" style=\"height:525px; width:100%;\"></div>            <script type=\"text/javascript\">                                    window.PLOTLYENV=window.PLOTLYENV || {};                                    if (document.getElementById(\"2b33e5c5-a7ce-46d9-bcb3-f2e408bafca3\")) {                    Plotly.newPlot(                        \"2b33e5c5-a7ce-46d9-bcb3-f2e408bafca3\",                        [{\"hovertemplate\":\"X=%{x}<br>Y=%{y}<extra></extra>\",\"legendgroup\":\"\",\"line\":{\"color\":\"#636efa\",\"dash\":\"solid\"},\"marker\":{\"symbol\":\"circle\"},\"mode\":\"lines\",\"name\":\"\",\"orientation\":\"v\",\"showlegend\":false,\"x\":[98,98,60,55,38,1,98],\"xaxis\":\"x\",\"y\":[29,27,46,32,7,86,29],\"yaxis\":\"y\",\"type\":\"scatter\"}],                        {\"template\":{\"data\":{\"bar\":[{\"error_x\":{\"color\":\"#2a3f5f\"},\"error_y\":{\"color\":\"#2a3f5f\"},\"marker\":{\"line\":{\"color\":\"#E5ECF6\",\"width\":0.5},\"pattern\":{\"fillmode\":\"overlay\",\"size\":10,\"solidity\":0.2}},\"type\":\"bar\"}],\"barpolar\":[{\"marker\":{\"line\":{\"color\":\"#E5ECF6\",\"width\":0.5},\"pattern\":{\"fillmode\":\"overlay\",\"size\":10,\"solidity\":0.2}},\"type\":\"barpolar\"}],\"carpet\":[{\"aaxis\":{\"endlinecolor\":\"#2a3f5f\",\"gridcolor\":\"white\",\"linecolor\":\"white\",\"minorgridcolor\":\"white\",\"startlinecolor\":\"#2a3f5f\"},\"baxis\":{\"endlinecolor\":\"#2a3f5f\",\"gridcolor\":\"white\",\"linecolor\":\"white\",\"minorgridcolor\":\"white\",\"startlinecolor\":\"#2a3f5f\"},\"type\":\"carpet\"}],\"choropleth\":[{\"colorbar\":{\"outlinewidth\":0,\"ticks\":\"\"},\"type\":\"choropleth\"}],\"contour\":[{\"colorbar\":{\"outlinewidth\":0,\"ticks\":\"\"},\"colorscale\":[[0.0,\"#0d0887\"],[0.1111111111111111,\"#46039f\"],[0.2222222222222222,\"#7201a8\"],[0.3333333333333333,\"#9c179e\"],[0.4444444444444444,\"#bd3786\"],[0.5555555555555556,\"#d8576b\"],[0.6666666666666666,\"#ed7953\"],[0.7777777777777778,\"#fb9f3a\"],[0.8888888888888888,\"#fdca26\"],[1.0,\"#f0f921\"]],\"type\":\"contour\"}],\"contourcarpet\":[{\"colorbar\":{\"outlinewidth\":0,\"ticks\":\"\"},\"type\":\"contourcarpet\"}],\"heatmap\":[{\"colorbar\":{\"outlinewidth\":0,\"ticks\":\"\"},\"colorscale\":[[0.0,\"#0d0887\"],[0.1111111111111111,\"#46039f\"],[0.2222222222222222,\"#7201a8\"],[0.3333333333333333,\"#9c179e\"],[0.4444444444444444,\"#bd3786\"],[0.5555555555555556,\"#d8576b\"],[0.6666666666666666,\"#ed7953\"],[0.7777777777777778,\"#fb9f3a\"],[0.8888888888888888,\"#fdca26\"],[1.0,\"#f0f921\"]],\"type\":\"heatmap\"}],\"heatmapgl\":[{\"colorbar\":{\"outlinewidth\":0,\"ticks\":\"\"},\"colorscale\":[[0.0,\"#0d0887\"],[0.1111111111111111,\"#46039f\"],[0.2222222222222222,\"#7201a8\"],[0.3333333333333333,\"#9c179e\"],[0.4444444444444444,\"#bd3786\"],[0.5555555555555556,\"#d8576b\"],[0.6666666666666666,\"#ed7953\"],[0.7777777777777778,\"#fb9f3a\"],[0.8888888888888888,\"#fdca26\"],[1.0,\"#f0f921\"]],\"type\":\"heatmapgl\"}],\"histogram\":[{\"marker\":{\"pattern\":{\"fillmode\":\"overlay\",\"size\":10,\"solidity\":0.2}},\"type\":\"histogram\"}],\"histogram2d\":[{\"colorbar\":{\"outlinewidth\":0,\"ticks\":\"\"},\"colorscale\":[[0.0,\"#0d0887\"],[0.1111111111111111,\"#46039f\"],[0.2222222222222222,\"#7201a8\"],[0.3333333333333333,\"#9c179e\"],[0.4444444444444444,\"#bd3786\"],[0.5555555555555556,\"#d8576b\"],[0.6666666666666666,\"#ed7953\"],[0.7777777777777778,\"#fb9f3a\"],[0.8888888888888888,\"#fdca26\"],[1.0,\"#f0f921\"]],\"type\":\"histogram2d\"}],\"histogram2dcontour\":[{\"colorbar\":{\"outlinewidth\":0,\"ticks\":\"\"},\"colorscale\":[[0.0,\"#0d0887\"],[0.1111111111111111,\"#46039f\"],[0.2222222222222222,\"#7201a8\"],[0.3333333333333333,\"#9c179e\"],[0.4444444444444444,\"#bd3786\"],[0.5555555555555556,\"#d8576b\"],[0.6666666666666666,\"#ed7953\"],[0.7777777777777778,\"#fb9f3a\"],[0.8888888888888888,\"#fdca26\"],[1.0,\"#f0f921\"]],\"type\":\"histogram2dcontour\"}],\"mesh3d\":[{\"colorbar\":{\"outlinewidth\":0,\"ticks\":\"\"},\"type\":\"mesh3d\"}],\"parcoords\":[{\"line\":{\"colorbar\":{\"outlinewidth\":0,\"ticks\":\"\"}},\"type\":\"parcoords\"}],\"pie\":[{\"automargin\":true,\"type\":\"pie\"}],\"scatter\":[{\"marker\":{\"colorbar\":{\"outlinewidth\":0,\"ticks\":\"\"}},\"type\":\"scatter\"}],\"scatter3d\":[{\"line\":{\"colorbar\":{\"outlinewidth\":0,\"ticks\":\"\"}},\"marker\":{\"colorbar\":{\"outlinewidth\":0,\"ticks\":\"\"}},\"type\":\"scatter3d\"}],\"scattercarpet\":[{\"marker\":{\"colorbar\":{\"outlinewidth\":0,\"ticks\":\"\"}},\"type\":\"scattercarpet\"}],\"scattergeo\":[{\"marker\":{\"colorbar\":{\"outlinewidth\":0,\"ticks\":\"\"}},\"type\":\"scattergeo\"}],\"scattergl\":[{\"marker\":{\"colorbar\":{\"outlinewidth\":0,\"ticks\":\"\"}},\"type\":\"scattergl\"}],\"scattermapbox\":[{\"marker\":{\"colorbar\":{\"outlinewidth\":0,\"ticks\":\"\"}},\"type\":\"scattermapbox\"}],\"scatterpolar\":[{\"marker\":{\"colorbar\":{\"outlinewidth\":0,\"ticks\":\"\"}},\"type\":\"scatterpolar\"}],\"scatterpolargl\":[{\"marker\":{\"colorbar\":{\"outlinewidth\":0,\"ticks\":\"\"}},\"type\":\"scatterpolargl\"}],\"scatterternary\":[{\"marker\":{\"colorbar\":{\"outlinewidth\":0,\"ticks\":\"\"}},\"type\":\"scatterternary\"}],\"surface\":[{\"colorbar\":{\"outlinewidth\":0,\"ticks\":\"\"},\"colorscale\":[[0.0,\"#0d0887\"],[0.1111111111111111,\"#46039f\"],[0.2222222222222222,\"#7201a8\"],[0.3333333333333333,\"#9c179e\"],[0.4444444444444444,\"#bd3786\"],[0.5555555555555556,\"#d8576b\"],[0.6666666666666666,\"#ed7953\"],[0.7777777777777778,\"#fb9f3a\"],[0.8888888888888888,\"#fdca26\"],[1.0,\"#f0f921\"]],\"type\":\"surface\"}],\"table\":[{\"cells\":{\"fill\":{\"color\":\"#EBF0F8\"},\"line\":{\"color\":\"white\"}},\"header\":{\"fill\":{\"color\":\"#C8D4E3\"},\"line\":{\"color\":\"white\"}},\"type\":\"table\"}]},\"layout\":{\"annotationdefaults\":{\"arrowcolor\":\"#2a3f5f\",\"arrowhead\":0,\"arrowwidth\":1},\"autotypenumbers\":\"strict\",\"coloraxis\":{\"colorbar\":{\"outlinewidth\":0,\"ticks\":\"\"}},\"colorscale\":{\"diverging\":[[0,\"#8e0152\"],[0.1,\"#c51b7d\"],[0.2,\"#de77ae\"],[0.3,\"#f1b6da\"],[0.4,\"#fde0ef\"],[0.5,\"#f7f7f7\"],[0.6,\"#e6f5d0\"],[0.7,\"#b8e186\"],[0.8,\"#7fbc41\"],[0.9,\"#4d9221\"],[1,\"#276419\"]],\"sequential\":[[0.0,\"#0d0887\"],[0.1111111111111111,\"#46039f\"],[0.2222222222222222,\"#7201a8\"],[0.3333333333333333,\"#9c179e\"],[0.4444444444444444,\"#bd3786\"],[0.5555555555555556,\"#d8576b\"],[0.6666666666666666,\"#ed7953\"],[0.7777777777777778,\"#fb9f3a\"],[0.8888888888888888,\"#fdca26\"],[1.0,\"#f0f921\"]],\"sequentialminus\":[[0.0,\"#0d0887\"],[0.1111111111111111,\"#46039f\"],[0.2222222222222222,\"#7201a8\"],[0.3333333333333333,\"#9c179e\"],[0.4444444444444444,\"#bd3786\"],[0.5555555555555556,\"#d8576b\"],[0.6666666666666666,\"#ed7953\"],[0.7777777777777778,\"#fb9f3a\"],[0.8888888888888888,\"#fdca26\"],[1.0,\"#f0f921\"]]},\"colorway\":[\"#636efa\",\"#EF553B\",\"#00cc96\",\"#ab63fa\",\"#FFA15A\",\"#19d3f3\",\"#FF6692\",\"#B6E880\",\"#FF97FF\",\"#FECB52\"],\"font\":{\"color\":\"#2a3f5f\"},\"geo\":{\"bgcolor\":\"white\",\"lakecolor\":\"white\",\"landcolor\":\"#E5ECF6\",\"showlakes\":true,\"showland\":true,\"subunitcolor\":\"white\"},\"hoverlabel\":{\"align\":\"left\"},\"hovermode\":\"closest\",\"mapbox\":{\"style\":\"light\"},\"paper_bgcolor\":\"white\",\"plot_bgcolor\":\"#E5ECF6\",\"polar\":{\"angularaxis\":{\"gridcolor\":\"white\",\"linecolor\":\"white\",\"ticks\":\"\"},\"bgcolor\":\"#E5ECF6\",\"radialaxis\":{\"gridcolor\":\"white\",\"linecolor\":\"white\",\"ticks\":\"\"}},\"scene\":{\"xaxis\":{\"backgroundcolor\":\"#E5ECF6\",\"gridcolor\":\"white\",\"gridwidth\":2,\"linecolor\":\"white\",\"showbackground\":true,\"ticks\":\"\",\"zerolinecolor\":\"white\"},\"yaxis\":{\"backgroundcolor\":\"#E5ECF6\",\"gridcolor\":\"white\",\"gridwidth\":2,\"linecolor\":\"white\",\"showbackground\":true,\"ticks\":\"\",\"zerolinecolor\":\"white\"},\"zaxis\":{\"backgroundcolor\":\"#E5ECF6\",\"gridcolor\":\"white\",\"gridwidth\":2,\"linecolor\":\"white\",\"showbackground\":true,\"ticks\":\"\",\"zerolinecolor\":\"white\"}},\"shapedefaults\":{\"line\":{\"color\":\"#2a3f5f\"}},\"ternary\":{\"aaxis\":{\"gridcolor\":\"white\",\"linecolor\":\"white\",\"ticks\":\"\"},\"baxis\":{\"gridcolor\":\"white\",\"linecolor\":\"white\",\"ticks\":\"\"},\"bgcolor\":\"#E5ECF6\",\"caxis\":{\"gridcolor\":\"white\",\"linecolor\":\"white\",\"ticks\":\"\"}},\"title\":{\"x\":0.05},\"xaxis\":{\"automargin\":true,\"gridcolor\":\"white\",\"linecolor\":\"white\",\"ticks\":\"\",\"title\":{\"standoff\":15},\"zerolinecolor\":\"white\",\"zerolinewidth\":2},\"yaxis\":{\"automargin\":true,\"gridcolor\":\"white\",\"linecolor\":\"white\",\"ticks\":\"\",\"title\":{\"standoff\":15},\"zerolinecolor\":\"white\",\"zerolinewidth\":2}}},\"xaxis\":{\"anchor\":\"y\",\"domain\":[0.0,1.0],\"title\":{\"text\":\"X\"}},\"yaxis\":{\"anchor\":\"x\",\"domain\":[0.0,1.0],\"title\":{\"text\":\"Y\"}},\"legend\":{\"tracegroupgap\":0},\"title\":{\"text\":\"Grafico con Mas avaro\"}},                        {\"responsive\": true}                    ).then(function(){\n",
              "                            \n",
              "var gd = document.getElementById('2b33e5c5-a7ce-46d9-bcb3-f2e408bafca3');\n",
              "var x = new MutationObserver(function (mutations, observer) {{\n",
              "        var display = window.getComputedStyle(gd).display;\n",
              "        if (!display || display === 'none') {{\n",
              "            console.log([gd, 'removed!']);\n",
              "            Plotly.purge(gd);\n",
              "            observer.disconnect();\n",
              "        }}\n",
              "}});\n",
              "\n",
              "// Listen for the removal of the full notebook cells\n",
              "var notebookContainer = gd.closest('#notebook-container');\n",
              "if (notebookContainer) {{\n",
              "    x.observe(notebookContainer, {childList: true});\n",
              "}}\n",
              "\n",
              "// Listen for the clearing of the current output cell\n",
              "var outputEl = gd.closest('.output');\n",
              "if (outputEl) {{\n",
              "    x.observe(outputEl, {childList: true});\n",
              "}}\n",
              "\n",
              "                        })                };                            </script>        </div>\n",
              "</body>\n",
              "</html>"
            ]
          },
          "metadata": {}
        }
      ],
      "source": [
        "fig = px.line(ruta_optima['ruta'], x=\"X\", y=\"Y\", title='Grafico con Mas avaro')\n",
        "fig.show()"
      ]
    },
    {
      "cell_type": "code",
      "execution_count": 223,
      "metadata": {
        "id": "9MmiAjzolvAx",
        "colab": {
          "base_uri": "https://localhost:8080/",
          "height": 542
        },
        "outputId": "c3459a5c-60ec-47fb-e15e-93ddcb1f2dd1"
      },
      "outputs": [
        {
          "output_type": "display_data",
          "data": {
            "text/html": [
              "<html>\n",
              "<head><meta charset=\"utf-8\" /></head>\n",
              "<body>\n",
              "    <div>            <script src=\"https://cdnjs.cloudflare.com/ajax/libs/mathjax/2.7.5/MathJax.js?config=TeX-AMS-MML_SVG\"></script><script type=\"text/javascript\">if (window.MathJax) {MathJax.Hub.Config({SVG: {font: \"STIX-Web\"}});}</script>                <script type=\"text/javascript\">window.PlotlyConfig = {MathJaxConfig: 'local'};</script>\n",
              "        <script src=\"https://cdn.plot.ly/plotly-2.8.3.min.js\"></script>                <div id=\"7b344c34-409a-4d8b-be8f-7986c01cab9a\" class=\"plotly-graph-div\" style=\"height:525px; width:100%;\"></div>            <script type=\"text/javascript\">                                    window.PLOTLYENV=window.PLOTLYENV || {};                                    if (document.getElementById(\"7b344c34-409a-4d8b-be8f-7986c01cab9a\")) {                    Plotly.newPlot(                        \"7b344c34-409a-4d8b-be8f-7986c01cab9a\",                        [{\"hovertemplate\":\"X=%{x}<br>Y=%{y}<br>index=%{text}<extra></extra>\",\"legendgroup\":\"\",\"line\":{\"color\":\"#636efa\",\"dash\":\"solid\"},\"marker\":{\"symbol\":\"circle\"},\"mode\":\"markers+text+lines\",\"name\":\"\",\"orientation\":\"v\",\"showlegend\":false,\"text\":[0.0,1.0,2.0,3.0,4.0,5.0,6.0],\"x\":[98,60,1,38,55,98,98],\"xaxis\":\"x\",\"y\":[29,46,86,7,32,27,29],\"yaxis\":\"y\",\"type\":\"scatter\",\"textposition\":\"bottom right\"}],                        {\"template\":{\"data\":{\"bar\":[{\"error_x\":{\"color\":\"#2a3f5f\"},\"error_y\":{\"color\":\"#2a3f5f\"},\"marker\":{\"line\":{\"color\":\"#E5ECF6\",\"width\":0.5},\"pattern\":{\"fillmode\":\"overlay\",\"size\":10,\"solidity\":0.2}},\"type\":\"bar\"}],\"barpolar\":[{\"marker\":{\"line\":{\"color\":\"#E5ECF6\",\"width\":0.5},\"pattern\":{\"fillmode\":\"overlay\",\"size\":10,\"solidity\":0.2}},\"type\":\"barpolar\"}],\"carpet\":[{\"aaxis\":{\"endlinecolor\":\"#2a3f5f\",\"gridcolor\":\"white\",\"linecolor\":\"white\",\"minorgridcolor\":\"white\",\"startlinecolor\":\"#2a3f5f\"},\"baxis\":{\"endlinecolor\":\"#2a3f5f\",\"gridcolor\":\"white\",\"linecolor\":\"white\",\"minorgridcolor\":\"white\",\"startlinecolor\":\"#2a3f5f\"},\"type\":\"carpet\"}],\"choropleth\":[{\"colorbar\":{\"outlinewidth\":0,\"ticks\":\"\"},\"type\":\"choropleth\"}],\"contour\":[{\"colorbar\":{\"outlinewidth\":0,\"ticks\":\"\"},\"colorscale\":[[0.0,\"#0d0887\"],[0.1111111111111111,\"#46039f\"],[0.2222222222222222,\"#7201a8\"],[0.3333333333333333,\"#9c179e\"],[0.4444444444444444,\"#bd3786\"],[0.5555555555555556,\"#d8576b\"],[0.6666666666666666,\"#ed7953\"],[0.7777777777777778,\"#fb9f3a\"],[0.8888888888888888,\"#fdca26\"],[1.0,\"#f0f921\"]],\"type\":\"contour\"}],\"contourcarpet\":[{\"colorbar\":{\"outlinewidth\":0,\"ticks\":\"\"},\"type\":\"contourcarpet\"}],\"heatmap\":[{\"colorbar\":{\"outlinewidth\":0,\"ticks\":\"\"},\"colorscale\":[[0.0,\"#0d0887\"],[0.1111111111111111,\"#46039f\"],[0.2222222222222222,\"#7201a8\"],[0.3333333333333333,\"#9c179e\"],[0.4444444444444444,\"#bd3786\"],[0.5555555555555556,\"#d8576b\"],[0.6666666666666666,\"#ed7953\"],[0.7777777777777778,\"#fb9f3a\"],[0.8888888888888888,\"#fdca26\"],[1.0,\"#f0f921\"]],\"type\":\"heatmap\"}],\"heatmapgl\":[{\"colorbar\":{\"outlinewidth\":0,\"ticks\":\"\"},\"colorscale\":[[0.0,\"#0d0887\"],[0.1111111111111111,\"#46039f\"],[0.2222222222222222,\"#7201a8\"],[0.3333333333333333,\"#9c179e\"],[0.4444444444444444,\"#bd3786\"],[0.5555555555555556,\"#d8576b\"],[0.6666666666666666,\"#ed7953\"],[0.7777777777777778,\"#fb9f3a\"],[0.8888888888888888,\"#fdca26\"],[1.0,\"#f0f921\"]],\"type\":\"heatmapgl\"}],\"histogram\":[{\"marker\":{\"pattern\":{\"fillmode\":\"overlay\",\"size\":10,\"solidity\":0.2}},\"type\":\"histogram\"}],\"histogram2d\":[{\"colorbar\":{\"outlinewidth\":0,\"ticks\":\"\"},\"colorscale\":[[0.0,\"#0d0887\"],[0.1111111111111111,\"#46039f\"],[0.2222222222222222,\"#7201a8\"],[0.3333333333333333,\"#9c179e\"],[0.4444444444444444,\"#bd3786\"],[0.5555555555555556,\"#d8576b\"],[0.6666666666666666,\"#ed7953\"],[0.7777777777777778,\"#fb9f3a\"],[0.8888888888888888,\"#fdca26\"],[1.0,\"#f0f921\"]],\"type\":\"histogram2d\"}],\"histogram2dcontour\":[{\"colorbar\":{\"outlinewidth\":0,\"ticks\":\"\"},\"colorscale\":[[0.0,\"#0d0887\"],[0.1111111111111111,\"#46039f\"],[0.2222222222222222,\"#7201a8\"],[0.3333333333333333,\"#9c179e\"],[0.4444444444444444,\"#bd3786\"],[0.5555555555555556,\"#d8576b\"],[0.6666666666666666,\"#ed7953\"],[0.7777777777777778,\"#fb9f3a\"],[0.8888888888888888,\"#fdca26\"],[1.0,\"#f0f921\"]],\"type\":\"histogram2dcontour\"}],\"mesh3d\":[{\"colorbar\":{\"outlinewidth\":0,\"ticks\":\"\"},\"type\":\"mesh3d\"}],\"parcoords\":[{\"line\":{\"colorbar\":{\"outlinewidth\":0,\"ticks\":\"\"}},\"type\":\"parcoords\"}],\"pie\":[{\"automargin\":true,\"type\":\"pie\"}],\"scatter\":[{\"marker\":{\"colorbar\":{\"outlinewidth\":0,\"ticks\":\"\"}},\"type\":\"scatter\"}],\"scatter3d\":[{\"line\":{\"colorbar\":{\"outlinewidth\":0,\"ticks\":\"\"}},\"marker\":{\"colorbar\":{\"outlinewidth\":0,\"ticks\":\"\"}},\"type\":\"scatter3d\"}],\"scattercarpet\":[{\"marker\":{\"colorbar\":{\"outlinewidth\":0,\"ticks\":\"\"}},\"type\":\"scattercarpet\"}],\"scattergeo\":[{\"marker\":{\"colorbar\":{\"outlinewidth\":0,\"ticks\":\"\"}},\"type\":\"scattergeo\"}],\"scattergl\":[{\"marker\":{\"colorbar\":{\"outlinewidth\":0,\"ticks\":\"\"}},\"type\":\"scattergl\"}],\"scattermapbox\":[{\"marker\":{\"colorbar\":{\"outlinewidth\":0,\"ticks\":\"\"}},\"type\":\"scattermapbox\"}],\"scatterpolar\":[{\"marker\":{\"colorbar\":{\"outlinewidth\":0,\"ticks\":\"\"}},\"type\":\"scatterpolar\"}],\"scatterpolargl\":[{\"marker\":{\"colorbar\":{\"outlinewidth\":0,\"ticks\":\"\"}},\"type\":\"scatterpolargl\"}],\"scatterternary\":[{\"marker\":{\"colorbar\":{\"outlinewidth\":0,\"ticks\":\"\"}},\"type\":\"scatterternary\"}],\"surface\":[{\"colorbar\":{\"outlinewidth\":0,\"ticks\":\"\"},\"colorscale\":[[0.0,\"#0d0887\"],[0.1111111111111111,\"#46039f\"],[0.2222222222222222,\"#7201a8\"],[0.3333333333333333,\"#9c179e\"],[0.4444444444444444,\"#bd3786\"],[0.5555555555555556,\"#d8576b\"],[0.6666666666666666,\"#ed7953\"],[0.7777777777777778,\"#fb9f3a\"],[0.8888888888888888,\"#fdca26\"],[1.0,\"#f0f921\"]],\"type\":\"surface\"}],\"table\":[{\"cells\":{\"fill\":{\"color\":\"#EBF0F8\"},\"line\":{\"color\":\"white\"}},\"header\":{\"fill\":{\"color\":\"#C8D4E3\"},\"line\":{\"color\":\"white\"}},\"type\":\"table\"}]},\"layout\":{\"annotationdefaults\":{\"arrowcolor\":\"#2a3f5f\",\"arrowhead\":0,\"arrowwidth\":1},\"autotypenumbers\":\"strict\",\"coloraxis\":{\"colorbar\":{\"outlinewidth\":0,\"ticks\":\"\"}},\"colorscale\":{\"diverging\":[[0,\"#8e0152\"],[0.1,\"#c51b7d\"],[0.2,\"#de77ae\"],[0.3,\"#f1b6da\"],[0.4,\"#fde0ef\"],[0.5,\"#f7f7f7\"],[0.6,\"#e6f5d0\"],[0.7,\"#b8e186\"],[0.8,\"#7fbc41\"],[0.9,\"#4d9221\"],[1,\"#276419\"]],\"sequential\":[[0.0,\"#0d0887\"],[0.1111111111111111,\"#46039f\"],[0.2222222222222222,\"#7201a8\"],[0.3333333333333333,\"#9c179e\"],[0.4444444444444444,\"#bd3786\"],[0.5555555555555556,\"#d8576b\"],[0.6666666666666666,\"#ed7953\"],[0.7777777777777778,\"#fb9f3a\"],[0.8888888888888888,\"#fdca26\"],[1.0,\"#f0f921\"]],\"sequentialminus\":[[0.0,\"#0d0887\"],[0.1111111111111111,\"#46039f\"],[0.2222222222222222,\"#7201a8\"],[0.3333333333333333,\"#9c179e\"],[0.4444444444444444,\"#bd3786\"],[0.5555555555555556,\"#d8576b\"],[0.6666666666666666,\"#ed7953\"],[0.7777777777777778,\"#fb9f3a\"],[0.8888888888888888,\"#fdca26\"],[1.0,\"#f0f921\"]]},\"colorway\":[\"#636efa\",\"#EF553B\",\"#00cc96\",\"#ab63fa\",\"#FFA15A\",\"#19d3f3\",\"#FF6692\",\"#B6E880\",\"#FF97FF\",\"#FECB52\"],\"font\":{\"color\":\"#2a3f5f\"},\"geo\":{\"bgcolor\":\"white\",\"lakecolor\":\"white\",\"landcolor\":\"#E5ECF6\",\"showlakes\":true,\"showland\":true,\"subunitcolor\":\"white\"},\"hoverlabel\":{\"align\":\"left\"},\"hovermode\":\"closest\",\"mapbox\":{\"style\":\"light\"},\"paper_bgcolor\":\"white\",\"plot_bgcolor\":\"#E5ECF6\",\"polar\":{\"angularaxis\":{\"gridcolor\":\"white\",\"linecolor\":\"white\",\"ticks\":\"\"},\"bgcolor\":\"#E5ECF6\",\"radialaxis\":{\"gridcolor\":\"white\",\"linecolor\":\"white\",\"ticks\":\"\"}},\"scene\":{\"xaxis\":{\"backgroundcolor\":\"#E5ECF6\",\"gridcolor\":\"white\",\"gridwidth\":2,\"linecolor\":\"white\",\"showbackground\":true,\"ticks\":\"\",\"zerolinecolor\":\"white\"},\"yaxis\":{\"backgroundcolor\":\"#E5ECF6\",\"gridcolor\":\"white\",\"gridwidth\":2,\"linecolor\":\"white\",\"showbackground\":true,\"ticks\":\"\",\"zerolinecolor\":\"white\"},\"zaxis\":{\"backgroundcolor\":\"#E5ECF6\",\"gridcolor\":\"white\",\"gridwidth\":2,\"linecolor\":\"white\",\"showbackground\":true,\"ticks\":\"\",\"zerolinecolor\":\"white\"}},\"shapedefaults\":{\"line\":{\"color\":\"#2a3f5f\"}},\"ternary\":{\"aaxis\":{\"gridcolor\":\"white\",\"linecolor\":\"white\",\"ticks\":\"\"},\"baxis\":{\"gridcolor\":\"white\",\"linecolor\":\"white\",\"ticks\":\"\"},\"bgcolor\":\"#E5ECF6\",\"caxis\":{\"gridcolor\":\"white\",\"linecolor\":\"white\",\"ticks\":\"\"}},\"title\":{\"x\":0.05},\"xaxis\":{\"automargin\":true,\"gridcolor\":\"white\",\"linecolor\":\"white\",\"ticks\":\"\",\"title\":{\"standoff\":15},\"zerolinecolor\":\"white\",\"zerolinewidth\":2},\"yaxis\":{\"automargin\":true,\"gridcolor\":\"white\",\"linecolor\":\"white\",\"ticks\":\"\",\"title\":{\"standoff\":15},\"zerolinecolor\":\"white\",\"zerolinewidth\":2}}},\"xaxis\":{\"anchor\":\"y\",\"domain\":[0.0,1.0],\"title\":{\"text\":\"X\"}},\"yaxis\":{\"anchor\":\"x\",\"domain\":[0.0,1.0],\"title\":{\"text\":\"Y\"}},\"legend\":{\"tracegroupgap\":0},\"title\":{\"text\":\"Grafico con Backtracking\"}},                        {\"responsive\": true}                    ).then(function(){\n",
              "                            \n",
              "var gd = document.getElementById('7b344c34-409a-4d8b-be8f-7986c01cab9a');\n",
              "var x = new MutationObserver(function (mutations, observer) {{\n",
              "        var display = window.getComputedStyle(gd).display;\n",
              "        if (!display || display === 'none') {{\n",
              "            console.log([gd, 'removed!']);\n",
              "            Plotly.purge(gd);\n",
              "            observer.disconnect();\n",
              "        }}\n",
              "}});\n",
              "\n",
              "// Listen for the removal of the full notebook cells\n",
              "var notebookContainer = gd.closest('#notebook-container');\n",
              "if (notebookContainer) {{\n",
              "    x.observe(notebookContainer, {childList: true});\n",
              "}}\n",
              "\n",
              "// Listen for the clearing of the current output cell\n",
              "var outputEl = gd.closest('.output');\n",
              "if (outputEl) {{\n",
              "    x.observe(outputEl, {childList: true});\n",
              "}}\n",
              "\n",
              "                        })                };                            </script>        </div>\n",
              "</body>\n",
              "</html>"
            ]
          },
          "metadata": {}
        }
      ],
      "source": [
        "for ruta in ruta_backtracking['ruta'] :\n",
        "  fig = px.line(ruta, x=\"X\", y=\"Y\", title='Grafico con Backtracking', text=ruta.index)\n",
        "  fig.update_traces(textposition=\"bottom right\")\n",
        "  fig.show()"
      ]
    },
    {
      "cell_type": "code",
      "execution_count": 224,
      "metadata": {
        "id": "j9xXGdpeliwr",
        "colab": {
          "base_uri": "https://localhost:8080/",
          "height": 542
        },
        "outputId": "73c95fa2-5b33-4984-b2d5-0b27541d4f6c"
      },
      "outputs": [
        {
          "output_type": "display_data",
          "data": {
            "text/html": [
              "<html>\n",
              "<head><meta charset=\"utf-8\" /></head>\n",
              "<body>\n",
              "    <div>            <script src=\"https://cdnjs.cloudflare.com/ajax/libs/mathjax/2.7.5/MathJax.js?config=TeX-AMS-MML_SVG\"></script><script type=\"text/javascript\">if (window.MathJax) {MathJax.Hub.Config({SVG: {font: \"STIX-Web\"}});}</script>                <script type=\"text/javascript\">window.PlotlyConfig = {MathJaxConfig: 'local'};</script>\n",
              "        <script src=\"https://cdn.plot.ly/plotly-2.8.3.min.js\"></script>                <div id=\"337693c3-95e6-4e4c-afd0-18bebc7c2b8f\" class=\"plotly-graph-div\" style=\"height:525px; width:100%;\"></div>            <script type=\"text/javascript\">                                    window.PLOTLYENV=window.PLOTLYENV || {};                                    if (document.getElementById(\"337693c3-95e6-4e4c-afd0-18bebc7c2b8f\")) {                    Plotly.newPlot(                        \"337693c3-95e6-4e4c-afd0-18bebc7c2b8f\",                        [{\"hovertemplate\":\"X=%{x}<br>Y=%{y}<br>index=%{text}<extra></extra>\",\"legendgroup\":\"\",\"line\":{\"color\":\"#636efa\",\"dash\":\"solid\"},\"marker\":{\"symbol\":\"circle\"},\"mode\":\"markers+text+lines\",\"name\":\"\",\"orientation\":\"v\",\"showlegend\":false,\"text\":[0.0,1.0,2.0,5.0,4.0,3.0,6.0],\"x\":[98,98,38,1,60,55,98],\"xaxis\":\"x\",\"y\":[29,27,7,86,46,32,29],\"yaxis\":\"y\",\"type\":\"scatter\"}],                        {\"template\":{\"data\":{\"bar\":[{\"error_x\":{\"color\":\"#2a3f5f\"},\"error_y\":{\"color\":\"#2a3f5f\"},\"marker\":{\"line\":{\"color\":\"#E5ECF6\",\"width\":0.5},\"pattern\":{\"fillmode\":\"overlay\",\"size\":10,\"solidity\":0.2}},\"type\":\"bar\"}],\"barpolar\":[{\"marker\":{\"line\":{\"color\":\"#E5ECF6\",\"width\":0.5},\"pattern\":{\"fillmode\":\"overlay\",\"size\":10,\"solidity\":0.2}},\"type\":\"barpolar\"}],\"carpet\":[{\"aaxis\":{\"endlinecolor\":\"#2a3f5f\",\"gridcolor\":\"white\",\"linecolor\":\"white\",\"minorgridcolor\":\"white\",\"startlinecolor\":\"#2a3f5f\"},\"baxis\":{\"endlinecolor\":\"#2a3f5f\",\"gridcolor\":\"white\",\"linecolor\":\"white\",\"minorgridcolor\":\"white\",\"startlinecolor\":\"#2a3f5f\"},\"type\":\"carpet\"}],\"choropleth\":[{\"colorbar\":{\"outlinewidth\":0,\"ticks\":\"\"},\"type\":\"choropleth\"}],\"contour\":[{\"colorbar\":{\"outlinewidth\":0,\"ticks\":\"\"},\"colorscale\":[[0.0,\"#0d0887\"],[0.1111111111111111,\"#46039f\"],[0.2222222222222222,\"#7201a8\"],[0.3333333333333333,\"#9c179e\"],[0.4444444444444444,\"#bd3786\"],[0.5555555555555556,\"#d8576b\"],[0.6666666666666666,\"#ed7953\"],[0.7777777777777778,\"#fb9f3a\"],[0.8888888888888888,\"#fdca26\"],[1.0,\"#f0f921\"]],\"type\":\"contour\"}],\"contourcarpet\":[{\"colorbar\":{\"outlinewidth\":0,\"ticks\":\"\"},\"type\":\"contourcarpet\"}],\"heatmap\":[{\"colorbar\":{\"outlinewidth\":0,\"ticks\":\"\"},\"colorscale\":[[0.0,\"#0d0887\"],[0.1111111111111111,\"#46039f\"],[0.2222222222222222,\"#7201a8\"],[0.3333333333333333,\"#9c179e\"],[0.4444444444444444,\"#bd3786\"],[0.5555555555555556,\"#d8576b\"],[0.6666666666666666,\"#ed7953\"],[0.7777777777777778,\"#fb9f3a\"],[0.8888888888888888,\"#fdca26\"],[1.0,\"#f0f921\"]],\"type\":\"heatmap\"}],\"heatmapgl\":[{\"colorbar\":{\"outlinewidth\":0,\"ticks\":\"\"},\"colorscale\":[[0.0,\"#0d0887\"],[0.1111111111111111,\"#46039f\"],[0.2222222222222222,\"#7201a8\"],[0.3333333333333333,\"#9c179e\"],[0.4444444444444444,\"#bd3786\"],[0.5555555555555556,\"#d8576b\"],[0.6666666666666666,\"#ed7953\"],[0.7777777777777778,\"#fb9f3a\"],[0.8888888888888888,\"#fdca26\"],[1.0,\"#f0f921\"]],\"type\":\"heatmapgl\"}],\"histogram\":[{\"marker\":{\"pattern\":{\"fillmode\":\"overlay\",\"size\":10,\"solidity\":0.2}},\"type\":\"histogram\"}],\"histogram2d\":[{\"colorbar\":{\"outlinewidth\":0,\"ticks\":\"\"},\"colorscale\":[[0.0,\"#0d0887\"],[0.1111111111111111,\"#46039f\"],[0.2222222222222222,\"#7201a8\"],[0.3333333333333333,\"#9c179e\"],[0.4444444444444444,\"#bd3786\"],[0.5555555555555556,\"#d8576b\"],[0.6666666666666666,\"#ed7953\"],[0.7777777777777778,\"#fb9f3a\"],[0.8888888888888888,\"#fdca26\"],[1.0,\"#f0f921\"]],\"type\":\"histogram2d\"}],\"histogram2dcontour\":[{\"colorbar\":{\"outlinewidth\":0,\"ticks\":\"\"},\"colorscale\":[[0.0,\"#0d0887\"],[0.1111111111111111,\"#46039f\"],[0.2222222222222222,\"#7201a8\"],[0.3333333333333333,\"#9c179e\"],[0.4444444444444444,\"#bd3786\"],[0.5555555555555556,\"#d8576b\"],[0.6666666666666666,\"#ed7953\"],[0.7777777777777778,\"#fb9f3a\"],[0.8888888888888888,\"#fdca26\"],[1.0,\"#f0f921\"]],\"type\":\"histogram2dcontour\"}],\"mesh3d\":[{\"colorbar\":{\"outlinewidth\":0,\"ticks\":\"\"},\"type\":\"mesh3d\"}],\"parcoords\":[{\"line\":{\"colorbar\":{\"outlinewidth\":0,\"ticks\":\"\"}},\"type\":\"parcoords\"}],\"pie\":[{\"automargin\":true,\"type\":\"pie\"}],\"scatter\":[{\"marker\":{\"colorbar\":{\"outlinewidth\":0,\"ticks\":\"\"}},\"type\":\"scatter\"}],\"scatter3d\":[{\"line\":{\"colorbar\":{\"outlinewidth\":0,\"ticks\":\"\"}},\"marker\":{\"colorbar\":{\"outlinewidth\":0,\"ticks\":\"\"}},\"type\":\"scatter3d\"}],\"scattercarpet\":[{\"marker\":{\"colorbar\":{\"outlinewidth\":0,\"ticks\":\"\"}},\"type\":\"scattercarpet\"}],\"scattergeo\":[{\"marker\":{\"colorbar\":{\"outlinewidth\":0,\"ticks\":\"\"}},\"type\":\"scattergeo\"}],\"scattergl\":[{\"marker\":{\"colorbar\":{\"outlinewidth\":0,\"ticks\":\"\"}},\"type\":\"scattergl\"}],\"scattermapbox\":[{\"marker\":{\"colorbar\":{\"outlinewidth\":0,\"ticks\":\"\"}},\"type\":\"scattermapbox\"}],\"scatterpolar\":[{\"marker\":{\"colorbar\":{\"outlinewidth\":0,\"ticks\":\"\"}},\"type\":\"scatterpolar\"}],\"scatterpolargl\":[{\"marker\":{\"colorbar\":{\"outlinewidth\":0,\"ticks\":\"\"}},\"type\":\"scatterpolargl\"}],\"scatterternary\":[{\"marker\":{\"colorbar\":{\"outlinewidth\":0,\"ticks\":\"\"}},\"type\":\"scatterternary\"}],\"surface\":[{\"colorbar\":{\"outlinewidth\":0,\"ticks\":\"\"},\"colorscale\":[[0.0,\"#0d0887\"],[0.1111111111111111,\"#46039f\"],[0.2222222222222222,\"#7201a8\"],[0.3333333333333333,\"#9c179e\"],[0.4444444444444444,\"#bd3786\"],[0.5555555555555556,\"#d8576b\"],[0.6666666666666666,\"#ed7953\"],[0.7777777777777778,\"#fb9f3a\"],[0.8888888888888888,\"#fdca26\"],[1.0,\"#f0f921\"]],\"type\":\"surface\"}],\"table\":[{\"cells\":{\"fill\":{\"color\":\"#EBF0F8\"},\"line\":{\"color\":\"white\"}},\"header\":{\"fill\":{\"color\":\"#C8D4E3\"},\"line\":{\"color\":\"white\"}},\"type\":\"table\"}]},\"layout\":{\"annotationdefaults\":{\"arrowcolor\":\"#2a3f5f\",\"arrowhead\":0,\"arrowwidth\":1},\"autotypenumbers\":\"strict\",\"coloraxis\":{\"colorbar\":{\"outlinewidth\":0,\"ticks\":\"\"}},\"colorscale\":{\"diverging\":[[0,\"#8e0152\"],[0.1,\"#c51b7d\"],[0.2,\"#de77ae\"],[0.3,\"#f1b6da\"],[0.4,\"#fde0ef\"],[0.5,\"#f7f7f7\"],[0.6,\"#e6f5d0\"],[0.7,\"#b8e186\"],[0.8,\"#7fbc41\"],[0.9,\"#4d9221\"],[1,\"#276419\"]],\"sequential\":[[0.0,\"#0d0887\"],[0.1111111111111111,\"#46039f\"],[0.2222222222222222,\"#7201a8\"],[0.3333333333333333,\"#9c179e\"],[0.4444444444444444,\"#bd3786\"],[0.5555555555555556,\"#d8576b\"],[0.6666666666666666,\"#ed7953\"],[0.7777777777777778,\"#fb9f3a\"],[0.8888888888888888,\"#fdca26\"],[1.0,\"#f0f921\"]],\"sequentialminus\":[[0.0,\"#0d0887\"],[0.1111111111111111,\"#46039f\"],[0.2222222222222222,\"#7201a8\"],[0.3333333333333333,\"#9c179e\"],[0.4444444444444444,\"#bd3786\"],[0.5555555555555556,\"#d8576b\"],[0.6666666666666666,\"#ed7953\"],[0.7777777777777778,\"#fb9f3a\"],[0.8888888888888888,\"#fdca26\"],[1.0,\"#f0f921\"]]},\"colorway\":[\"#636efa\",\"#EF553B\",\"#00cc96\",\"#ab63fa\",\"#FFA15A\",\"#19d3f3\",\"#FF6692\",\"#B6E880\",\"#FF97FF\",\"#FECB52\"],\"font\":{\"color\":\"#2a3f5f\"},\"geo\":{\"bgcolor\":\"white\",\"lakecolor\":\"white\",\"landcolor\":\"#E5ECF6\",\"showlakes\":true,\"showland\":true,\"subunitcolor\":\"white\"},\"hoverlabel\":{\"align\":\"left\"},\"hovermode\":\"closest\",\"mapbox\":{\"style\":\"light\"},\"paper_bgcolor\":\"white\",\"plot_bgcolor\":\"#E5ECF6\",\"polar\":{\"angularaxis\":{\"gridcolor\":\"white\",\"linecolor\":\"white\",\"ticks\":\"\"},\"bgcolor\":\"#E5ECF6\",\"radialaxis\":{\"gridcolor\":\"white\",\"linecolor\":\"white\",\"ticks\":\"\"}},\"scene\":{\"xaxis\":{\"backgroundcolor\":\"#E5ECF6\",\"gridcolor\":\"white\",\"gridwidth\":2,\"linecolor\":\"white\",\"showbackground\":true,\"ticks\":\"\",\"zerolinecolor\":\"white\"},\"yaxis\":{\"backgroundcolor\":\"#E5ECF6\",\"gridcolor\":\"white\",\"gridwidth\":2,\"linecolor\":\"white\",\"showbackground\":true,\"ticks\":\"\",\"zerolinecolor\":\"white\"},\"zaxis\":{\"backgroundcolor\":\"#E5ECF6\",\"gridcolor\":\"white\",\"gridwidth\":2,\"linecolor\":\"white\",\"showbackground\":true,\"ticks\":\"\",\"zerolinecolor\":\"white\"}},\"shapedefaults\":{\"line\":{\"color\":\"#2a3f5f\"}},\"ternary\":{\"aaxis\":{\"gridcolor\":\"white\",\"linecolor\":\"white\",\"ticks\":\"\"},\"baxis\":{\"gridcolor\":\"white\",\"linecolor\":\"white\",\"ticks\":\"\"},\"bgcolor\":\"#E5ECF6\",\"caxis\":{\"gridcolor\":\"white\",\"linecolor\":\"white\",\"ticks\":\"\"}},\"title\":{\"x\":0.05},\"xaxis\":{\"automargin\":true,\"gridcolor\":\"white\",\"linecolor\":\"white\",\"ticks\":\"\",\"title\":{\"standoff\":15},\"zerolinecolor\":\"white\",\"zerolinewidth\":2},\"yaxis\":{\"automargin\":true,\"gridcolor\":\"white\",\"linecolor\":\"white\",\"ticks\":\"\",\"title\":{\"standoff\":15},\"zerolinecolor\":\"white\",\"zerolinewidth\":2}}},\"xaxis\":{\"anchor\":\"y\",\"domain\":[0.0,1.0],\"title\":{\"text\":\"X\"}},\"yaxis\":{\"anchor\":\"x\",\"domain\":[0.0,1.0],\"title\":{\"text\":\"Y\"}},\"legend\":{\"tracegroupgap\":0},\"title\":{\"text\":\"Ruta con heuristica\"}},                        {\"responsive\": true}                    ).then(function(){\n",
              "                            \n",
              "var gd = document.getElementById('337693c3-95e6-4e4c-afd0-18bebc7c2b8f');\n",
              "var x = new MutationObserver(function (mutations, observer) {{\n",
              "        var display = window.getComputedStyle(gd).display;\n",
              "        if (!display || display === 'none') {{\n",
              "            console.log([gd, 'removed!']);\n",
              "            Plotly.purge(gd);\n",
              "            observer.disconnect();\n",
              "        }}\n",
              "}});\n",
              "\n",
              "// Listen for the removal of the full notebook cells\n",
              "var notebookContainer = gd.closest('#notebook-container');\n",
              "if (notebookContainer) {{\n",
              "    x.observe(notebookContainer, {childList: true});\n",
              "}}\n",
              "\n",
              "// Listen for the clearing of the current output cell\n",
              "var outputEl = gd.closest('.output');\n",
              "if (outputEl) {{\n",
              "    x.observe(outputEl, {childList: true});\n",
              "}}\n",
              "\n",
              "                        })                };                            </script>        </div>\n",
              "</body>\n",
              "</html>"
            ]
          },
          "metadata": {}
        }
      ],
      "source": [
        "fig = px.line(ruta_optima2opt['ruta'], x=\"X\", y=\"Y\", title='Ruta con heuristica', text=ruta_optima2opt['ruta'].index)\n",
        "fig.show()"
      ]
    },
    {
      "cell_type": "code",
      "execution_count": 225,
      "metadata": {
        "id": "pA6DClB_liws",
        "colab": {
          "base_uri": "https://localhost:8080/",
          "height": 238
        },
        "outputId": "cfbcf480-7b6c-4822-a1ef-0461c5774d65"
      },
      "outputs": [
        {
          "output_type": "execute_result",
          "data": {
            "text/plain": [
              "    X   Y\n",
              "0  98  29\n",
              "1  60  46\n",
              "2   1  86\n",
              "3  38   7\n",
              "4  55  32\n",
              "5  98  27"
            ],
            "text/html": [
              "\n",
              "  <div id=\"df-fe924c7f-2794-4b74-90a5-85e97dfdfe44\">\n",
              "    <div class=\"colab-df-container\">\n",
              "      <div>\n",
              "<style scoped>\n",
              "    .dataframe tbody tr th:only-of-type {\n",
              "        vertical-align: middle;\n",
              "    }\n",
              "\n",
              "    .dataframe tbody tr th {\n",
              "        vertical-align: top;\n",
              "    }\n",
              "\n",
              "    .dataframe thead th {\n",
              "        text-align: right;\n",
              "    }\n",
              "</style>\n",
              "<table border=\"1\" class=\"dataframe\">\n",
              "  <thead>\n",
              "    <tr style=\"text-align: right;\">\n",
              "      <th></th>\n",
              "      <th>X</th>\n",
              "      <th>Y</th>\n",
              "    </tr>\n",
              "  </thead>\n",
              "  <tbody>\n",
              "    <tr>\n",
              "      <th>0</th>\n",
              "      <td>98</td>\n",
              "      <td>29</td>\n",
              "    </tr>\n",
              "    <tr>\n",
              "      <th>1</th>\n",
              "      <td>60</td>\n",
              "      <td>46</td>\n",
              "    </tr>\n",
              "    <tr>\n",
              "      <th>2</th>\n",
              "      <td>1</td>\n",
              "      <td>86</td>\n",
              "    </tr>\n",
              "    <tr>\n",
              "      <th>3</th>\n",
              "      <td>38</td>\n",
              "      <td>7</td>\n",
              "    </tr>\n",
              "    <tr>\n",
              "      <th>4</th>\n",
              "      <td>55</td>\n",
              "      <td>32</td>\n",
              "    </tr>\n",
              "    <tr>\n",
              "      <th>5</th>\n",
              "      <td>98</td>\n",
              "      <td>27</td>\n",
              "    </tr>\n",
              "  </tbody>\n",
              "</table>\n",
              "</div>\n",
              "      <button class=\"colab-df-convert\" onclick=\"convertToInteractive('df-fe924c7f-2794-4b74-90a5-85e97dfdfe44')\"\n",
              "              title=\"Convert this dataframe to an interactive table.\"\n",
              "              style=\"display:none;\">\n",
              "        \n",
              "  <svg xmlns=\"http://www.w3.org/2000/svg\" height=\"24px\"viewBox=\"0 0 24 24\"\n",
              "       width=\"24px\">\n",
              "    <path d=\"M0 0h24v24H0V0z\" fill=\"none\"/>\n",
              "    <path d=\"M18.56 5.44l.94 2.06.94-2.06 2.06-.94-2.06-.94-.94-2.06-.94 2.06-2.06.94zm-11 1L8.5 8.5l.94-2.06 2.06-.94-2.06-.94L8.5 2.5l-.94 2.06-2.06.94zm10 10l.94 2.06.94-2.06 2.06-.94-2.06-.94-.94-2.06-.94 2.06-2.06.94z\"/><path d=\"M17.41 7.96l-1.37-1.37c-.4-.4-.92-.59-1.43-.59-.52 0-1.04.2-1.43.59L10.3 9.45l-7.72 7.72c-.78.78-.78 2.05 0 2.83L4 21.41c.39.39.9.59 1.41.59.51 0 1.02-.2 1.41-.59l7.78-7.78 2.81-2.81c.8-.78.8-2.07 0-2.86zM5.41 20L4 18.59l7.72-7.72 1.47 1.35L5.41 20z\"/>\n",
              "  </svg>\n",
              "      </button>\n",
              "      \n",
              "  <style>\n",
              "    .colab-df-container {\n",
              "      display:flex;\n",
              "      flex-wrap:wrap;\n",
              "      gap: 12px;\n",
              "    }\n",
              "\n",
              "    .colab-df-convert {\n",
              "      background-color: #E8F0FE;\n",
              "      border: none;\n",
              "      border-radius: 50%;\n",
              "      cursor: pointer;\n",
              "      display: none;\n",
              "      fill: #1967D2;\n",
              "      height: 32px;\n",
              "      padding: 0 0 0 0;\n",
              "      width: 32px;\n",
              "    }\n",
              "\n",
              "    .colab-df-convert:hover {\n",
              "      background-color: #E2EBFA;\n",
              "      box-shadow: 0px 1px 2px rgba(60, 64, 67, 0.3), 0px 1px 3px 1px rgba(60, 64, 67, 0.15);\n",
              "      fill: #174EA6;\n",
              "    }\n",
              "\n",
              "    [theme=dark] .colab-df-convert {\n",
              "      background-color: #3B4455;\n",
              "      fill: #D2E3FC;\n",
              "    }\n",
              "\n",
              "    [theme=dark] .colab-df-convert:hover {\n",
              "      background-color: #434B5C;\n",
              "      box-shadow: 0px 1px 3px 1px rgba(0, 0, 0, 0.15);\n",
              "      filter: drop-shadow(0px 1px 2px rgba(0, 0, 0, 0.3));\n",
              "      fill: #FFFFFF;\n",
              "    }\n",
              "  </style>\n",
              "\n",
              "      <script>\n",
              "        const buttonEl =\n",
              "          document.querySelector('#df-fe924c7f-2794-4b74-90a5-85e97dfdfe44 button.colab-df-convert');\n",
              "        buttonEl.style.display =\n",
              "          google.colab.kernel.accessAllowed ? 'block' : 'none';\n",
              "\n",
              "        async function convertToInteractive(key) {\n",
              "          const element = document.querySelector('#df-fe924c7f-2794-4b74-90a5-85e97dfdfe44');\n",
              "          const dataTable =\n",
              "            await google.colab.kernel.invokeFunction('convertToInteractive',\n",
              "                                                     [key], {});\n",
              "          if (!dataTable) return;\n",
              "\n",
              "          const docLinkHtml = 'Like what you see? Visit the ' +\n",
              "            '<a target=\"_blank\" href=https://colab.research.google.com/notebooks/data_table.ipynb>data table notebook</a>'\n",
              "            + ' to learn more about interactive tables.';\n",
              "          element.innerHTML = '';\n",
              "          dataTable['output_type'] = 'display_data';\n",
              "          await google.colab.output.renderOutput(dataTable, element);\n",
              "          const docLink = document.createElement('div');\n",
              "          docLink.innerHTML = docLinkHtml;\n",
              "          element.appendChild(docLink);\n",
              "        }\n",
              "      </script>\n",
              "    </div>\n",
              "  </div>\n",
              "  "
            ]
          },
          "metadata": {},
          "execution_count": 225
        }
      ],
      "source": [
        "puntosAleatorios"
      ]
    },
    {
      "cell_type": "code",
      "execution_count": 226,
      "metadata": {
        "id": "QPf0AfAODpNW",
        "colab": {
          "base_uri": "https://localhost:8080/"
        },
        "outputId": "7234714d-7e5d-4d0c-c646-66d973ba5e36"
      },
      "outputs": [
        {
          "output_type": "execute_result",
          "data": {
            "text/plain": [
              "{'ruta': [    X   Y\n",
              "  0  98  29\n",
              "  1  60  46\n",
              "  2   1  86\n",
              "  3  38   7\n",
              "  4  55  32\n",
              "  5  98  27\n",
              "  6  98  29], 'distancia': 275.66791865153044}"
            ]
          },
          "metadata": {},
          "execution_count": 226
        }
      ],
      "source": [
        "ruta_backtracking"
      ]
    },
    {
      "cell_type": "code",
      "source": [
        "ruta_optima2opt"
      ],
      "metadata": {
        "colab": {
          "base_uri": "https://localhost:8080/"
        },
        "id": "q1Jq2V4IONYh",
        "outputId": "b9383a00-cee0-4b71-992e-7586ccaa7381"
      },
      "execution_count": 227,
      "outputs": [
        {
          "output_type": "execute_result",
          "data": {
            "text/plain": [
              "{'ruta':     X   Y\n",
              " 0  98  29\n",
              " 1  98  27\n",
              " 2  38   7\n",
              " 5   1  86\n",
              " 4  60  46\n",
              " 3  55  32\n",
              " 6  98  29, 'distancia': 6228.507777508936}"
            ]
          },
          "metadata": {},
          "execution_count": 227
        }
      ]
    },
    {
      "cell_type": "code",
      "source": [
        "distancia_total(ruta_optima2opt['ruta'])"
      ],
      "metadata": {
        "colab": {
          "base_uri": "https://localhost:8080/"
        },
        "id": "OMgNyrrmXtA_",
        "outputId": "bb677321-d033-4da0-c557-dd9bdb1accdb"
      },
      "execution_count": 228,
      "outputs": [
        {
          "output_type": "execute_result",
          "data": {
            "text/plain": [
              "281.7325935742352"
            ]
          },
          "metadata": {},
          "execution_count": 228
        }
      ]
    },
    {
      "cell_type": "code",
      "source": [
        "data = pd.DataFrame(data={\"X\": [98,98,38,1,60,55,98],\n",
        "                          \"Y\": [29,27,7,86,46,32,29]})\n",
        "distancia_total(data)"
      ],
      "metadata": {
        "colab": {
          "base_uri": "https://localhost:8080/"
        },
        "id": "PMVmxfg6kbkI",
        "outputId": "6777c8e1-33c9-4d3e-87cd-83e4b18e4908"
      },
      "execution_count": 229,
      "outputs": [
        {
          "output_type": "execute_result",
          "data": {
            "text/plain": [
              "281.7325935742352"
            ]
          },
          "metadata": {},
          "execution_count": 229
        }
      ]
    },
    {
      "cell_type": "code",
      "source": [
        "#0  98  29\n",
        "#1  98  27\n",
        "#2  38   7\n",
        "#3   1  86\n",
        "#4  60  46\n",
        "#5  55  32\n",
        "#6  98  29, 'distancia': 281.7325935742349}"
      ],
      "metadata": {
        "id": "-EyQuRKPk6X-"
      },
      "execution_count": 230,
      "outputs": []
    }
  ],
  "metadata": {
    "colab": {
      "collapsed_sections": [
        "Td4-ZudblvAq",
        "URS9TOYilvAr",
        "6D6E9zh4lvAr",
        "PflaoYOYlvAs",
        "OhbW9zB9liwo"
      ],
      "provenance": [],
      "include_colab_link": true
    },
    "kernelspec": {
      "display_name": "Python 3 (ipykernel)",
      "language": "python",
      "name": "python3"
    },
    "language_info": {
      "codemirror_mode": {
        "name": "ipython",
        "version": 3
      },
      "file_extension": ".py",
      "mimetype": "text/x-python",
      "name": "python",
      "nbconvert_exporter": "python",
      "pygments_lexer": "ipython3",
      "version": "3.9.13"
    }
  },
  "nbformat": 4,
  "nbformat_minor": 0
}