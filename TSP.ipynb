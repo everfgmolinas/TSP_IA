{
  "cells": [
    {
      "cell_type": "markdown",
      "metadata": {
        "id": "view-in-github",
        "colab_type": "text"
      },
      "source": [
        "<a href=\"https://colab.research.google.com/github/everfgmolinas/TSP_IA/blob/main/TSP.ipynb\" target=\"_parent\"><img src=\"https://colab.research.google.com/assets/colab-badge.svg\" alt=\"Open In Colab\"/></a>"
      ]
    },
    {
      "cell_type": "markdown",
      "metadata": {
        "id": "Uslx6H4HlvAq"
      },
      "source": [
        "# TSP"
      ]
    },
    {
      "cell_type": "markdown",
      "metadata": {
        "id": "Td4-ZudblvAq"
      },
      "source": [
        "### Librerias"
      ]
    },
    {
      "cell_type": "code",
      "execution_count": 1,
      "metadata": {
        "id": "An1FjRYelvAr"
      },
      "outputs": [],
      "source": [
        "import pandas as pd\n",
        "import plotly.express as px\n",
        "import plotly.graph_objects as go\n",
        "import numpy as np\n",
        "import time\n",
        "import warnings\n",
        "warnings.filterwarnings('ignore')"
      ]
    },
    {
      "cell_type": "markdown",
      "metadata": {
        "id": "URS9TOYilvAr"
      },
      "source": [
        "### Constantes"
      ]
    },
    {
      "cell_type": "code",
      "execution_count": 2,
      "metadata": {
        "id": "4OH9cHFVlvAr"
      },
      "outputs": [],
      "source": [
        "# Definicion de constantes a ser utilizadas\n",
        "\n",
        "# maximo valor aleatorio que se podrá generar\n",
        "valorMaximo = 100\n",
        "# numero de nodos a ser utilizados\n",
        "nodos = 8"
      ]
    },
    {
      "cell_type": "markdown",
      "metadata": {
        "id": "6D6E9zh4lvAr"
      },
      "source": [
        "### Generancion del grafo y punto inicial"
      ]
    },
    {
      "cell_type": "code",
      "execution_count": 3,
      "metadata": {
        "id": "uJ_3h0LJlvAs"
      },
      "outputs": [],
      "source": [
        "# el par (nodos,2) da las dimensiones del array que generará numpy (fila,col)\n",
        "puntosAleatorios = pd.DataFrame(\n",
        "    np.random.randint(0, valorMaximo, (nodos,2)),\n",
        "    columns=['X', 'Y']\n",
        ")\n",
        "\n",
        "\n",
        "puntosAleatorios.nunique()\n",
        "\n",
        "# desde que arista empezar\n",
        "inicio = np.random.randint(0, nodos-1)"
      ]
    },
    {
      "cell_type": "markdown",
      "metadata": {
        "id": "PflaoYOYlvAs"
      },
      "source": [
        "### 1. Funciones utiles"
      ]
    },
    {
      "cell_type": "markdown",
      "metadata": {
        "id": "fRvlRpBelvAs"
      },
      "source": [
        "##### 1.2 Definicion de funcion que calcula la distancia entre dos puntos"
      ]
    },
    {
      "cell_type": "code",
      "execution_count": 4,
      "metadata": {
        "id": "w4T92yyGlvAs"
      },
      "outputs": [],
      "source": [
        "def distancia( punto1, punto2):\n",
        "  return np.sqrt(np.power(punto1[0]-punto2[0],2) + np.power(punto1[1]-punto2[1],2))"
      ]
    },
    {
      "cell_type": "markdown",
      "metadata": {
        "id": "3A3GZY_flvAs"
      },
      "source": [
        "##### 1.3 Definicion de funcion que retorna la cantidad de nodos expandidos"
      ]
    },
    {
      "cell_type": "code",
      "execution_count": 5,
      "metadata": {
        "id": "vhXaPh04lvAs"
      },
      "outputs": [],
      "source": [
        "def estadosExpandidos(grafo):\n",
        "    # contamos el numero de nodos visitados\n",
        "    return grafo[grafo['marcado']==True].shape[0]"
      ]
    },
    {
      "cell_type": "markdown",
      "metadata": {
        "id": "LwoGW5kelvAs"
      },
      "source": [
        "##### 1.4 Definicion de funcion que encuentra el punto más cercano respecto a un parámetro dado"
      ]
    },
    {
      "cell_type": "code",
      "execution_count": 6,
      "metadata": {
        "id": "PqOvsjMdlvAt"
      },
      "outputs": [],
      "source": [
        "# busqueda de siguiente distancia menor\n",
        "# si no encuentra a nadie con una menor distancia y sin visitar, devuelve el mismo \n",
        "# punto desde el que se busca\n",
        "def punto_mas_cerca(df, punto_inicial):\n",
        "  \"\"\"Determina el siguiente punto más cercano con respecto al punto_inicial,\n",
        "  si no encuentra un punto se retorna el mismo.\n",
        "\n",
        "  Parameters\n",
        "  ----------\n",
        "    df : Dataframe de puntos\n",
        "    punto_inicial : punto a partir de donde se busca el siguiente punto\n",
        "\n",
        "  Returns\n",
        "  ----------\n",
        "\n",
        "    df.row : fila del dataframe que representa el punto mascercano\n",
        "    int : longitud con el punto mas cercano o numpy.inf\n",
        "  \"\"\"\n",
        "\n",
        "  # longitud infinita\n",
        "  min_lenght = np.inf\n",
        "\n",
        "  # el siguiente punto más cercano es si mismo\n",
        "  next = punto_inicial.name\n",
        "\n",
        "  for index, row in df.iterrows():\n",
        "    # no debe de haber sido visitado y debe de ser una longitud menor a la\n",
        "    # longitud minima\n",
        "    if(row[2] != True and distancia(row, punto_inicial) <= min_lenght):\n",
        "      next = index\n",
        "      min_lenght = distancia(row, punto_inicial)\n",
        "\n",
        "  # retorna el punto y la longitud\n",
        "  return df.iloc[next], min_lenght"
      ]
    },
    {
      "cell_type": "markdown",
      "metadata": {
        "id": "JUQUtzEvlvAt"
      },
      "source": [
        "##### 1.5 Definicion de funcion que verifica la existencia de un nodo en un grafo"
      ]
    },
    {
      "cell_type": "code",
      "execution_count": 7,
      "metadata": {
        "id": "PgBj60AdlvAt"
      },
      "outputs": [],
      "source": [
        "def existe_en_dataframe(df, data):\n",
        "  query = \"X == \" + str(data['X']) + \" and Y == \" + str(data['Y'])\n",
        "  return len(df.query(query)) >= 1"
      ]
    },
    {
      "cell_type": "markdown",
      "metadata": {
        "id": "XiZD_HP8lvAt"
      },
      "source": [
        "##### 1.6 Definicion de funcion encargada de encontrar la ruta óptima aplicando el mas avaro"
      ]
    },
    {
      "cell_type": "code",
      "execution_count": 8,
      "metadata": {
        "id": "SEmnS_mflvAt"
      },
      "outputs": [],
      "source": [
        "def rutaOptima(dataframe, inicio):\n",
        "  dataframeCP = dataframe.copy()\n",
        "  # la columna marcado funciona para ver si el nodo en cuestion ya fue visitado\n",
        "  dataframeCP = dataframeCP.assign(marcado=False)\n",
        "  # cambiar a visitado\n",
        "  dataframeCP.iloc[inicio,2] = True\n",
        "  ruta = {\n",
        "    'ruta': pd.DataFrame(columns = ['X' , 'Y']),\n",
        "    'distancia': 0\n",
        "  }\n",
        "\n",
        "  ruta['ruta'] = ruta['ruta'].append({'X': dataframeCP.iloc[inicio].X, 'Y':dataframeCP.iloc[inicio].Y},ignore_index=True)\n",
        "\n",
        "  # mientras no haya un punto sin visitar\n",
        "  while(dataframeCP.marcado.isin([False]).any()):\n",
        "\n",
        "    #obtener punto mas cercano\n",
        "    punto_siguiente, distancia_sig = punto_mas_cerca(dataframeCP, ruta['ruta'].iloc[-1])\n",
        "    dataframeCP.iloc[punto_siguiente.name,2] = True\n",
        "    ruta['ruta'] = ruta['ruta'].append({'X': punto_siguiente.X, 'Y':punto_siguiente.Y},ignore_index=True)\n",
        "    ruta['distancia']+= distancia_sig\n",
        "\n",
        "  #conectar con el inicio\n",
        "  ruta['ruta'] = ruta['ruta'].append({'X': ruta['ruta'].iloc[0].X, 'Y':ruta['ruta'].iloc[0].Y},ignore_index=True)\n",
        "  ruta['distancia']+= distancia(ruta['ruta'].iloc[-1], ruta['ruta'].iloc[-2])\n",
        "  \n",
        "  return ruta"
      ]
    },
    {
      "cell_type": "markdown",
      "metadata": {
        "id": "aCUeiW-Qliwk"
      },
      "source": [
        "##### 1.7 Definicion de funcion encargada de invertir el orden de un dataframe"
      ]
    },
    {
      "cell_type": "code",
      "execution_count": 9,
      "metadata": {
        "id": "xFhbARcVliwk"
      },
      "outputs": [],
      "source": [
        "def invertir(dataframe, inicio, fin):\n",
        "    \"\"\"\n",
        "    Invierte desde inicio + 1, hasta fin\n",
        "    \"\"\"\n",
        "    return pd.concat([dataframe.iloc[:inicio+1],dataframe[inicio+1:fin+1:][::-1],dataframe.iloc[fin+1:]])"
      ]
    },
    {
      "cell_type": "code",
      "execution_count": 10,
      "metadata": {
        "id": "-0qtcTLCliwl"
      },
      "outputs": [],
      "source": [
        "def distancia2( punto1, punto2):\n",
        "  return np.power(punto1[0]-punto2[0],2) + np.power(punto1[1]-punto2[1],2)"
      ]
    },
    {
      "cell_type": "code",
      "execution_count": 11,
      "metadata": {
        "id": "VrX75_HclvAu"
      },
      "outputs": [],
      "source": [
        "def puntos_mas_cercanos(df,df2, punto_inicial):\n",
        "  \"\"\"Determina los siguientes puntos más cercanos con respecto al punto_inicial,\n",
        "  si no encuentra un punto se retorna el mismo.\n",
        "\n",
        "  Parameters\n",
        "  ----------\n",
        "    df : Dataframe de puntos totales\n",
        "    df2 : Dataframe de puntos ya utilizados\n",
        "    punto_inicial : punto a partir de donde se busca el siguiente punto\n",
        "\n",
        "  Returns\n",
        "  ----------\n",
        "\n",
        "    array de df.row : array de puntos mas cercanos\n",
        "    int : longitud con el punto mas cercano o numpy.inf\n",
        "  \"\"\"\n",
        "\n",
        "  # longitud infinita\n",
        "  min_lenght = np.inf\n",
        "\n",
        "  # el siguiente punto más cercano es si mismo\n",
        "  next = [punto_inicial]\n",
        "\n",
        "  for index, row in df.iterrows():\n",
        "    # no debe de existir en el segundo dataframe y debe de ser una longitud menor a la\n",
        "    # longitud minima\n",
        "    if(existe_en_dataframe(df2,row) != True and distancia(row, punto_inicial) <= min_lenght):\n",
        "      if (distancia(row, punto_inicial) < min_lenght):\n",
        "        next = [row]\n",
        "        min_lenght = distancia(row, punto_inicial)\n",
        "      else:\n",
        "        next.append(row)\n",
        "\n",
        "  # retorna el punto y la longitud\n",
        "  return next, min_lenght"
      ]
    },
    {
      "cell_type": "markdown",
      "metadata": {
        "id": "7ygSzq_8lvAu"
      },
      "source": [
        "##### 1.6 Ejemplo de medición de tiempo "
      ]
    },
    {
      "cell_type": "code",
      "execution_count": 12,
      "metadata": {
        "colab": {
          "base_uri": "https://localhost:8080/"
        },
        "outputId": "57f062b7-2f3a-4e29-d5f3-6af0093f5938",
        "id": "4IjofOCElvAu"
      },
      "outputs": [
        {
          "output_type": "stream",
          "name": "stdout",
          "text": [
            "4.4345855712890625e-05\n"
          ]
        }
      ],
      "source": [
        "# COMO MEDIR EL TIEMPO DE EJECUCION\n",
        "\n",
        "# capturamos la hora de inicializacion\n",
        "inicio_time = time.time()\n",
        "\n",
        "# aqui deberiamos agregar cada una de las llamadas a las funciones\n",
        "# como ejemplo una operacion simple\n",
        "y = 25*3\n",
        "\n",
        "# capturamos la hora de finalizacion\n",
        "fin_time = time.time()\n",
        "\n",
        "print(fin_time-inicio_time)"
      ]
    },
    {
      "cell_type": "markdown",
      "metadata": {
        "id": "SHPLr03klvAu"
      },
      "source": [
        "## 2. TSP con Backtracking"
      ]
    },
    {
      "cell_type": "markdown",
      "metadata": {
        "id": "dD6NkI-sliwn"
      },
      "source": [
        "### 2.1 Funciones"
      ]
    },
    {
      "cell_type": "code",
      "execution_count": 13,
      "metadata": {
        "id": "n1vYpiFSlvAv"
      },
      "outputs": [],
      "source": [
        "def search(ruta_optima, ruta, grafo, inicio):\n",
        "  for h in range(0,len(grafo)):\n",
        "    punto = {\"X\": grafo.iloc[h].X, \"Y\": grafo.iloc[h].Y}\n",
        "    if(not existe_en_dataframe(ruta['ruta'], punto)):\n",
        "      ruta['ruta'] = ruta['ruta'].append(punto, ignore_index = True)\n",
        "      ruta['distancia'] += distancia(ruta['ruta'].iloc[-1], ruta['ruta'].iloc[-2])\n",
        "      ruta_optima = search(ruta_optima, ruta, grafo, inicio)\n",
        "      ruta['distancia'] -= distancia(ruta['ruta'].iloc[-1], ruta['ruta'].iloc[-2])\n",
        "      ruta['ruta'] = ruta['ruta'].drop([len(ruta['ruta'])-1], axis=0)\n",
        "\n",
        "  #conectar con el primer punto solo si la ruta ya fue totalmente recorrida\n",
        "  if ( len(ruta['ruta']) == len(grafo) ):\n",
        "    punto = {\"X\": grafo.iloc[inicio].X, \"Y\": grafo.iloc[inicio].Y}\n",
        "    ruta['ruta'] = ruta['ruta'].append(punto, ignore_index = True)\n",
        "    ruta['distancia'] += distancia(ruta['ruta'].iloc[-1], ruta['ruta'].iloc[-2])\n",
        "\n",
        "  if (ruta['distancia'] <= ruta_optima['distancia'] and len(ruta['ruta']) == (len(grafo)+1)) :\n",
        "    if(ruta['distancia'] < ruta_optima['distancia']):\n",
        "\n",
        "      ruta_optima['ruta'] = [ruta['ruta'].copy()]\n",
        "      ruta_optima['distancia'] = ruta['distancia']\n",
        "\n",
        "    elif(ruta['distancia'] == ruta_optima['distancia']):\n",
        "\n",
        "      ruta_optima['ruta'].append(ruta['ruta'].copy())\n",
        "      ruta_optima['distancia'] = ruta['distancia']\n",
        "\n",
        "  if(len(ruta['ruta']) == (len(grafo)+1)):\n",
        "    #borrar la conexion con el inicio\n",
        "    ruta['distancia'] -= distancia(ruta['ruta'].iloc[-1], ruta['ruta'].iloc[-2])\n",
        "    ruta['ruta'] = ruta['ruta'].drop([len(ruta['ruta'])-1], axis=0)\n",
        "    \n",
        "  return ruta_optima"
      ]
    },
    {
      "cell_type": "code",
      "execution_count": 14,
      "metadata": {
        "id": "EvGvufB5lvAv"
      },
      "outputs": [],
      "source": [
        "def backtracking(dataframe, inicio):\n",
        "  ruta = {\n",
        "    'ruta': pd.DataFrame(columns = ['X' , 'Y']),\n",
        "    'distancia': 0\n",
        "  }\n",
        "  ruta_optima = {\n",
        "    'ruta': [],\n",
        "    'distancia': np.inf\n",
        "  }\n",
        "  ruta['ruta'] = ruta['ruta'].append({'X': dataframe.iloc[inicio].X, 'Y':dataframe.iloc[inicio].Y},ignore_index=True)\n",
        "  return search(ruta_optima, ruta, dataframe, inicio)"
      ]
    },
    {
      "cell_type": "markdown",
      "metadata": {
        "id": "VjhsUP8xlvAv"
      },
      "source": [
        "## 3. TSP con heuristica"
      ]
    },
    {
      "cell_type": "markdown",
      "metadata": {
        "id": "OhbW9zB9liwo"
      },
      "source": [
        "### 3.1 Funciones"
      ]
    },
    {
      "cell_type": "code",
      "execution_count": 15,
      "metadata": {
        "id": "lH7pXL42liwo"
      },
      "outputs": [],
      "source": [
        "def ruta2Optima(dataframe, inicio):\n",
        "  # realizar una copia para no afectar al original\n",
        "  dataframeCP = dataframe.copy()\n",
        "    \n",
        "  # crear un diccionario\n",
        "  ruta = {\n",
        "    'ruta': pd.DataFrame(columns = ['X' , 'Y']),  # dataframe de puntos que representan el orden del recorrido\n",
        "    'distancia': 0\n",
        "  }\n",
        "\n",
        "  # agregamos el punto inicial\n",
        "  ruta['ruta'] = ruta['ruta'].append({'X': dataframeCP.iloc[inicio].X, 'Y':dataframeCP.iloc[inicio].Y},ignore_index=True)\n",
        "\n",
        "  # mientras no haya un punto sin visitar\n",
        "  while(len(ruta['ruta'])!= len(dataframe)):\n",
        "        \n",
        "    #obtener puntos mas cercanos\n",
        "    puntos_siguientes, distancia_sig = puntos_mas_cercanos(dataframeCP,ruta['ruta'], ruta['ruta'].iloc[-1])\n",
        "    \n",
        "    # array de heuristicas\n",
        "    heuristicas = []\n",
        "    \n",
        "    # generar heuristicas por cada punto posible\n",
        "    for punto in puntos_siguientes:\n",
        "        \n",
        "        # nuevo se hace una copia del estado actual\n",
        "        ruta_cp = ruta.copy()\n",
        "        \n",
        "        # se agrega el punto cercano al estado obteniendo asi el siguiente estado a analizar\n",
        "        ruta_cp['ruta'] = ruta_cp['ruta'].append({'X': punto.X, 'Y':punto.Y},ignore_index=True)\n",
        "        ruta_cp['distancia']+= distancia_sig\n",
        "        \n",
        "        # se calcula la conveniencia del estado de acuerto a la heuristica 2opt y se agrega a las heuristicas\n",
        "        heuristicas.append(opt2_local(ruta_cp, len(ruta_cp['ruta'])-2))\n",
        "        \n",
        "    # la mejor heuristica es aquella que se desconoce\n",
        "    heuristica = np.inf\n",
        "    \n",
        "    # buscar por cada heuristica\n",
        "    for ruta_2opt in heuristicas:\n",
        "        \n",
        "        # la heuristica es mejor que la que  tenemos\n",
        "        if(ruta_2opt['distancia']<heuristica):\n",
        "            \n",
        "            # actualizamos el valor de la heuristica\n",
        "            heuristica = ruta_2opt['distancia']\n",
        "            \n",
        "            # esa heuristica sera nuestro proximo estado\n",
        "            ruta = ruta_2opt\n",
        "            \n",
        "  #conectar con el inicio\n",
        "  ruta['ruta'] = ruta['ruta'].append({'X': ruta['ruta'].iloc[0].X, 'Y':ruta['ruta'].iloc[0].Y},ignore_index=True)\n",
        "  ruta['distancia']+= distancia(ruta['ruta'].iloc[-1], ruta['ruta'].iloc[-2])\n",
        "  \n",
        "  # aplicar la optimizacion al volver al inicio\n",
        "  return opt2_local(ruta, len(ruta_cp['ruta'])-2)"
      ]
    },
    {
      "cell_type": "code",
      "execution_count": 16,
      "metadata": {
        "id": "6D_iz-WGliwo"
      },
      "outputs": [],
      "source": [
        "def opt2_local(ruta, fin):\n",
        "    \"\"\"optimizacion local por 2opt,\n",
        "\n",
        "    Parameters\n",
        "    ----------\n",
        "    ruta : ruta la cual optimizar\n",
        "    fin: hasta que punto hacer la optimizacion\n",
        "\n",
        "    Returns\n",
        "    ----------\n",
        "\n",
        "    ruta optimizada\n",
        "    \"\"\"\n",
        "    foundImprovement = True\n",
        "    \n",
        "    # mientras se encuentre una optmimizacion se vuelve a analizar desde el principio debido a un cambio de ruta\n",
        "    while (foundImprovement):\n",
        "        foundImprovement = False;\n",
        "\n",
        "        # desde el inicio hasta el final\n",
        "        for i in range(fin-1):\n",
        "            \n",
        "            # calcular la mejora de distancia si se incercambia dos aristas\n",
        "            lengthDelta = - distancia(ruta['ruta'].iloc[i],ruta['ruta'].iloc[i+1]) - distancia(ruta['ruta'].iloc[fin],ruta['ruta'].iloc[fin+1])+ distancia(ruta['ruta'].iloc[i],ruta['ruta'].iloc[fin])+ distancia(ruta['ruta'].iloc[i+1],ruta['ruta'].iloc[fin+1])\n",
        "\n",
        "            # si la distancia es negativa, significa una mejora\n",
        "            if (lengthDelta < 0) :\n",
        "                \n",
        "                # invertimos la ruta entre \"i+1\" e \"fin\"\n",
        "                ruta['ruta'] = invertir(ruta['ruta'], i, fin)\n",
        "                \n",
        "                # aplicamos la mejora de la ruta\n",
        "                ruta['distancia'] += lengthDelta;\n",
        "                \n",
        "                # anuncimamos un cambio en la ruta\n",
        "                foundImprovement = True;\n",
        "    return ruta"
      ]
    },
    {
      "cell_type": "markdown",
      "metadata": {
        "id": "lUMvjHUOlvAw"
      },
      "source": [
        "## Pruebas varias"
      ]
    },
    {
      "cell_type": "markdown",
      "metadata": {
        "id": "FF9_KY08lvAw"
      },
      "source": [
        "### Pruebas de distancia entre puntos"
      ]
    },
    {
      "cell_type": "code",
      "execution_count": 17,
      "metadata": {
        "colab": {
          "base_uri": "https://localhost:8080/"
        },
        "outputId": "5e11b5ca-8132-4caa-f053-e61713d13f1a",
        "id": "EgFK5lxblvAw"
      },
      "outputs": [
        {
          "output_type": "execute_result",
          "data": {
            "text/plain": [
              "44.82186966202994"
            ]
          },
          "metadata": {},
          "execution_count": 17
        }
      ],
      "source": [
        "distancia(puntosAleatorios.iloc[inicio], puntosAleatorios.iloc[inicio+1])"
      ]
    },
    {
      "cell_type": "markdown",
      "metadata": {
        "id": "RDmpK2ppliwp"
      },
      "source": [
        "### Pruebas ruta con mas avaro"
      ]
    },
    {
      "cell_type": "code",
      "execution_count": 18,
      "metadata": {
        "outputId": "2217048a-f254-44f2-82bb-5b1ee376dc54",
        "colab": {
          "base_uri": "https://localhost:8080/"
        },
        "id": "8ZCiZzN5lvAw"
      },
      "outputs": [
        {
          "output_type": "stream",
          "name": "stdout",
          "text": [
            "0.049463510513305664\n"
          ]
        }
      ],
      "source": [
        "inicio_time_avaro = time.time()\n",
        "\n",
        "ruta_optima = rutaOptima(puntosAleatorios, inicio)\n",
        "\n",
        "# capturamos la hora de finalizacion\n",
        "fin_time_avaro = time.time()\n",
        "\n",
        "print(fin_time_avaro-inicio_time_avaro)"
      ]
    },
    {
      "cell_type": "markdown",
      "metadata": {
        "id": "gUoXcaKnlvAw"
      },
      "source": [
        "### Pruebas ruta con backtracking"
      ]
    },
    {
      "cell_type": "code",
      "execution_count": null,
      "metadata": {
        "id": "JAw9qOKflvAw"
      },
      "outputs": [],
      "source": [
        "inicio_time_back = time.time()\n",
        "\n",
        "ruta_backtracking = backtracking(puntosAleatorios, inicio)\n",
        "# capturamos la hora de finalizacion\n",
        "fin_time_back = time.time()\n",
        "\n",
        "print(fin_time-inicio_time)"
      ]
    },
    {
      "cell_type": "markdown",
      "metadata": {
        "id": "NhQrWyU1liwq"
      },
      "source": [
        "### Pruebas ruta con heuristica"
      ]
    },
    {
      "cell_type": "code",
      "execution_count": null,
      "metadata": {
        "id": "O27_QQYfliwr"
      },
      "outputs": [],
      "source": [
        "inicio_time = time.time()\n",
        "\n",
        "ruta_optima2opt = ruta2Optima(puntosAleatorios, inicio)\n",
        "# capturamos la hora de finalizacion\n",
        "fin_time = time.time()\n",
        "\n",
        "print(fin_time-inicio_time)"
      ]
    },
    {
      "cell_type": "markdown",
      "metadata": {
        "id": "co2nsLPTlvAx"
      },
      "source": [
        "## Graficos"
      ]
    },
    {
      "cell_type": "code",
      "execution_count": null,
      "metadata": {
        "id": "Mv4FS6SflvAx"
      },
      "outputs": [],
      "source": [
        "fig = px.line(ruta_optima['ruta'], x=\"X\", y=\"Y\", title='Grafico con Mas avaro')\n",
        "fig.show()"
      ]
    },
    {
      "cell_type": "code",
      "execution_count": null,
      "metadata": {
        "id": "9MmiAjzolvAx"
      },
      "outputs": [],
      "source": [
        "for ruta in ruta_backtracking['ruta'] :\n",
        "  fig = px.line(ruta, x=\"X\", y=\"Y\", title='Grafico con Backtracking', text=ruta.index)\n",
        "  fig.update_traces(textposition=\"bottom right\")\n",
        "  fig.show()"
      ]
    },
    {
      "cell_type": "code",
      "execution_count": null,
      "metadata": {
        "id": "j9xXGdpeliwr"
      },
      "outputs": [],
      "source": [
        "fig = px.line(ruta_optima2opt['ruta'], x=\"X\", y=\"Y\", title='Ruta con heuristica', text=ruta_optima2opt['ruta'].index)\n",
        "fig.show()"
      ]
    },
    {
      "cell_type": "code",
      "execution_count": null,
      "metadata": {
        "id": "pA6DClB_liws"
      },
      "outputs": [],
      "source": []
    }
  ],
  "metadata": {
    "colab": {
      "collapsed_sections": [
        "Uslx6H4HlvAq"
      ],
      "provenance": [],
      "include_colab_link": true
    },
    "kernelspec": {
      "display_name": "Python 3 (ipykernel)",
      "language": "python",
      "name": "python3"
    },
    "language_info": {
      "codemirror_mode": {
        "name": "ipython",
        "version": 3
      },
      "file_extension": ".py",
      "mimetype": "text/x-python",
      "name": "python",
      "nbconvert_exporter": "python",
      "pygments_lexer": "ipython3",
      "version": "3.9.13"
    }
  },
  "nbformat": 4,
  "nbformat_minor": 0
}